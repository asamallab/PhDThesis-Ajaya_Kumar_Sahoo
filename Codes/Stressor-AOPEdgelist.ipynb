{
 "cells": [
  {
   "cell_type": "markdown",
   "id": "96746565",
   "metadata": {},
   "source": [
    "### Author - Ajaya Kumar Sahoo\n",
    "\n",
    "#### This code creates stressor-AOP edgelist file from the chemical-KE data and the AOP-KE information"
   ]
  },
  {
   "cell_type": "code",
   "execution_count": 1,
   "id": "17f8279a",
   "metadata": {},
   "outputs": [],
   "source": [
    "import pandas as pd\n",
    "import numpy as np\n",
    "import networkx as nx"
   ]
  },
  {
   "cell_type": "code",
   "execution_count": 4,
   "id": "05030de3",
   "metadata": {},
   "outputs": [],
   "source": [
    "Chemical_KE_mapping = pd.read_csv('Chemical_KE_mapping.tsv', sep='\\t', dtype=str) \n",
    "# This file gives chemical-KE mapping curated through a data-centric integration, 1st column - chemical id, 2nd column = KE id\n",
    "\n",
    "print(Chemical_KE_mapping.shape)\n",
    "Chemical_KE_mapping.columns = ['Chemical','KEID']\n",
    "\n",
    "Chemical_KE_mapping.drop_duplicates(inplace=True)\n",
    "print(Chemical_KE_mapping.shape)\n",
    "\n",
    "Chemical_KE_mapping.head()\n"
   ]
  },
  {
   "cell_type": "code",
   "execution_count": 5,
   "id": "0712f179",
   "metadata": {},
   "outputs": [],
   "source": [
    "## High confidence AOP list with MIE, AO, KE, KER information\n",
    "\n",
    "HighCAOPs = pd.read_csv('high_confidence_AOP.tsv',sep='\\t',dtype=str) # this file contains following information\n",
    "\n",
    "# High confidence AOP identifier as 1st column, \n",
    "# MIEs identifiers ('|' separated) as 2nd column\n",
    "# KEs identifiers ('|' separated) excluding MIE and AO as 3rd column\n",
    "# AOs identifiers ('|' separated) as 4th column\n",
    "# Total KEs = MIEs+KEs+AOs ('|' separated) as 5th column\n",
    "# KER identifiers ('|' separated) as 6th column\n",
    "\n",
    "print(HighCAOPs.shape)\n",
    "\n",
    "HighCAOPs = HighCAOPs.replace(np.nan,'',regex=True)\n",
    "\n",
    "print(HighCAOPs.shape)\n",
    "\n",
    "HighCAOPs.columns = ['AOP_iden','MIEs','KEs','AOs','total_KEs','KERs']\n",
    "\n",
    "print(HighCAOPs.shape)\n",
    "\n",
    "HighCAOPs.head()\n"
   ]
  },
  {
   "cell_type": "code",
   "execution_count": 6,
   "id": "a6fd70a7",
   "metadata": {},
   "outputs": [],
   "source": [
    "# Get the chemicals for each of these AOPs\n",
    "\n",
    "for ind,row in HighCAOPs.iterrows():\n",
    "    total_KEs = HighCAOPs.at[ind,'total_KEs'].split('|')\n",
    "    chemical_list = '|'.join(set(list(Chemical_KE_mapping.loc[Chemical_KE_mapping['KEID'].isin(total_KEs),'Chemical'])))\n",
    "    \n",
    "    HighCAOPs.at[ind,'chemical'] = chemical_list\n",
    "    \n",
    "print(HighCAOPs.shape)\n",
    "\n",
    "HighCAOPs = HighCAOPs.set_index(['AOP_iden','MIEs','KEs','AOs','total_KEs','KERs']).apply(lambda x:x.str.split('|').explode()).reset_index()\n",
    "\n",
    "print(HighCAOPs.shape)\n",
    "\n",
    "HighCAOPs.head()\n",
    "\n"
   ]
  },
  {
   "cell_type": "code",
   "execution_count": 7,
   "id": "6e74af5b",
   "metadata": {},
   "outputs": [],
   "source": [
    "## checking how many high confidence AOPs have chemical stressor mapping available \n",
    "\n",
    "print('Number of high confidence AOPs linked to the stressors:',len(set(list(HighCAOPs[HighCAOPs['chemical'] != '']['AOP_iden']))))\n",
    "\n",
    "\n",
    "print('Number of stressors linked to the high confidence AOPs:',len(set(list(HighCAOPs[HighCAOPs['chemical'] != '']['chemical']))))\n",
    "\n"
   ]
  },
  {
   "cell_type": "code",
   "execution_count": 10,
   "id": "388c4588",
   "metadata": {},
   "outputs": [],
   "source": [
    "print(Chemical_KE_mapping.shape)\n",
    "\n",
    "Chemical_KE_mapping = Chemical_KE_mapping.groupby(['Chemical']).agg(lambda x:'|'.join(list(set([i for i in set(x)])))).reset_index()\n",
    "\n",
    "Chemical_KE_mapping_dict = dict(zip(Chemical_KE_mapping['Chemical'],Chemical_KE_mapping['KEID']))\n",
    "\n",
    "print(len(Chemical_KE_mapping_dict))\n"
   ]
  },
  {
   "cell_type": "code",
   "execution_count": 11,
   "id": "b564cf69",
   "metadata": {},
   "outputs": [],
   "source": [
    "def Get_mapped_events(row):\n",
    "    '''\n",
    "    Get the mapped events i.e., whether only MIE, AO or KEs are linked with stressor \n",
    "    '''\n",
    "    chemical = row['chemical']\n",
    "    \n",
    "    MIEs = row['MIEs'].split('|')\n",
    "    OnlyKEs = row['KEs'].split('|')\n",
    "    AOs = row['AOs'].split('|')\n",
    "    if chemical != '':\n",
    "        mapped_events = Chemical_KE_mapping_dict[chemical].split('|')\n",
    "    \n",
    "        MIEs_mapped = '|'.join(list(set(mapped_events).intersection(set(MIEs))))\n",
    "        OnlyKEs_mapped = '|'.join(list(set(mapped_events).intersection(set(OnlyKEs))))\n",
    "        AOs_mapped = '|'.join(list(set(mapped_events).intersection(set(AOs))))\n",
    "    \n",
    "        totalKEs_mapped = '|'.join(list(set(MIEs_mapped.split('|')+OnlyKEs_mapped.split('|')+AOs_mapped.split('|'))-{''}))\n",
    "    else:\n",
    "        MIEs_mapped = ''\n",
    "        OnlyKEs_mapped = ''\n",
    "        AOs_mapped = ''\n",
    "        totalKEs_mapped = ''\n",
    "    return (MIEs_mapped,OnlyKEs_mapped,AOs_mapped,totalKEs_mapped)"
   ]
  },
  {
   "cell_type": "code",
   "execution_count": 28,
   "id": "9ea6b8d6",
   "metadata": {},
   "outputs": [],
   "source": [
    "# Applying the function to the dataframe\n",
    "\n",
    "HighCAOPs['MIEs_mapped'] = HighCAOPs.apply(lambda row:Get_mapped_events(row)[0],axis=1)\n",
    "HighCAOPs['KEs_mapped'] = HighCAOPs.apply(lambda row:Get_mapped_events(row)[1],axis=1)\n",
    "HighCAOPs['AOs_mapped'] = HighCAOPs.apply(lambda row:Get_mapped_events(row)[2],axis=1)\n",
    "HighCAOPs['totalKEs_mapped'] = HighCAOPs.apply(lambda row:Get_mapped_events(row)[3],axis=1)\n",
    "\n",
    "print(HighCAOPs.shape)\n",
    "HighCAOPs.head()"
   ]
  },
  {
   "cell_type": "markdown",
   "id": "fd568d28",
   "metadata": {},
   "source": [
    "#### Defining the edge attributes (https://link.springer.com/article/10.1007/s00204-024-03825-z)\n",
    "\n",
    "edge weight = covergae score\n",
    "\n",
    "coverage score is defined as number of KEs mapped/total number of KEs\n",
    "\n",
    "evidence level\n",
    "\n",
    "     Level 1 relevance - Only KE mapped\n",
    "     \n",
    "     Level 2 relevance - Only AO mapped but not MIE mapped\n",
    "     \n",
    "     Level 3 relevance - Only MIE mapped but not AO mapped\n",
    "     \n",
    "     Level 4 relevance - Both MIE and AO mapped\n",
    "     \n",
    "     Level 5 relevance - directed path exist between the mapped MIE and AO"
   ]
  },
  {
   "cell_type": "code",
   "execution_count": 12,
   "id": "365e4b47",
   "metadata": {},
   "outputs": [],
   "source": [
    "## Taking the high confidence AOPs which got mapped to any stressor\n",
    "\n",
    "HighCAOPs_mapped_AOPs = pd.DataFrame(HighCAOPs[HighCAOPs['chemical'] != ''])\n",
    "\n",
    "print(HighCAOPs_mapped_AOPs.shape)\n",
    "print(len(set(HighCAOPs_mapped_AOPs['AOP_iden'])))\n",
    "HighCAOPs_mapped_AOPs.head()\n"
   ]
  },
  {
   "cell_type": "code",
   "execution_count": 13,
   "id": "9b62267a",
   "metadata": {},
   "outputs": [],
   "source": [
    "# computing the coverage score for each stressor-AOP associations\n",
    "\n",
    "def Get_coverage_score(row):\n",
    "    '''\n",
    "    Get the coverage score for the plastic addiitves\n",
    "    '''\n",
    "    total_KE_mapped = row['totalKEs_mapped'].split('|')\n",
    "    total_KE = row['total_KEs'].split('|')\n",
    "    \n",
    "    coverage_score = round((len(total_KE_mapped)/len(total_KE)),2)\n",
    "    return coverage_score"
   ]
  },
  {
   "cell_type": "code",
   "execution_count": 14,
   "id": "baf934e2",
   "metadata": {
    "scrolled": true
   },
   "outputs": [],
   "source": [
    "HighCAOPs_mapped_AOPs['Coverage score'] = HighCAOPs_mapped_AOPs.apply(lambda row:Get_coverage_score(row),axis=1)\n",
    "\n",
    "print(HighCAOPs_mapped_AOPs.shape)\n",
    "HighCAOPs_mapped_AOPs.head()\n",
    "\n"
   ]
  },
  {
   "cell_type": "code",
   "execution_count": 15,
   "id": "bf991b43",
   "metadata": {},
   "outputs": [],
   "source": [
    "# getting the KER details file\n",
    "\n",
    "KER_details = pd.read_csv('KER_details.tsv',sep='\\t',dtype=str)\n",
    "# KER_details file contains KERs identifier as first column, upstream KE identifier as 2nd column and downstream KE identifier as 3rd column \n",
    "\n",
    "print(KER_details.shape)\n",
    "KER_details.head()\n"
   ]
  },
  {
   "cell_type": "code",
   "execution_count": 16,
   "id": "4f8015df",
   "metadata": {},
   "outputs": [],
   "source": [
    "# Get the level of relevance\n",
    "\n",
    "def Get_evidence_category(row):\n",
    "    MIEs_mapped = list(set(row['MIEs_mapped'].split('|'))-{''})\n",
    "    onlyKEs_mapped = list(set(row['KEs_mapped'].split('|'))-{''})\n",
    "    AOs_mapped = list(set(row['AOs_mapped'].split('|'))-{''})\n",
    "    totalKEs_mapped = list(set(row['totalKEs_mapped'].split('|'))-{''})\n",
    "    Coverage_score =  float(row['Coverage score'])\n",
    "    \n",
    "    if len(MIEs_mapped) >=1 and len(AOs_mapped) >= 1:\n",
    "        \n",
    "        KERs = list(set(row['KERs'].split('|'))-{''})\n",
    "        edge_list = list(zip(list(KER_details[KER_details['ker_id'].isin(KERs)]['upstream_ke_id']), list(KER_details[KER_details['ker_id'].isin(KERs)]['downstream_ke_id'])))\n",
    "        \n",
    "        graph = nx.DiGraph()\n",
    "        graph.add_edges_from(edge_list) # creating graph from edge list\n",
    "        \n",
    "        paths = []\n",
    "        for MIE in MIEs_mapped:\n",
    "            #print(MIE)\n",
    "            for AO in AOs_mapped:\n",
    "                #print(AO)\n",
    "                paths = paths+[path for path in nx.all_simple_paths(graph,source=MIE,target=AO)]\n",
    "                \n",
    "        paths = ['|'.join(i) for i in paths] # flattening the list of list by joining the list using '|'\n",
    "        paths = list(set(paths)-{''})\n",
    "        #print(paths)\n",
    "        \n",
    "        if len(paths) >= 1:\n",
    "            evidence = 'Level 5' # directed path exists between mapped MIE and mapped AO, and the coverage score >= 0.4\n",
    "        else:\n",
    "            evidence = 'Level 4' # directed path does not exists between mapped MIE and AO. So evidence level 4 is satisfied\n",
    "    \n",
    "    elif len(MIEs_mapped) >=1 and len(AOs_mapped) == 0: \n",
    "        evidence = 'Level 3' # Only MIEs are mapped but not AO\n",
    "    \n",
    "    elif len(AOs_mapped) >= 1 and len(MIEs_mapped) == 0:\n",
    "        evidence = 'Level 2' # only AOs are mapped but not MIE\n",
    "    else:\n",
    "        evidence = 'Level 1' # only KEs are mapped\n",
    "    \n",
    "    return evidence   \n",
    "\n"
   ]
  },
  {
   "cell_type": "code",
   "execution_count": 17,
   "id": "9d2e8f01",
   "metadata": {},
   "outputs": [],
   "source": [
    "HighCAOPs_mapped_AOPs['Level of relevance'] = HighCAOPs_mapped_AOPs.apply(lambda row:Get_evidence_category(row),axis=1)\n",
    "\n",
    "print(HighCAOPs_mapped_AOPs.shape)\n",
    "\n",
    "HighCAOPs_mapped_AOPs.head()\n"
   ]
  },
  {
   "cell_type": "code",
   "execution_count": 18,
   "id": "68f6b5ba",
   "metadata": {
    "scrolled": true
   },
   "outputs": [],
   "source": [
    "Stressor_AOP_edgelist = pd.DataFrame(HighCAOPs_mapped_AOPs[['AOP_iden','chemical','Coverage score','Evidence Level']])\n",
    "\n",
    "Stressor_AOP_edgelist = pd.DataFrame(Stressor_AOP_edgelist[['chemical','AOP_iden','Coverage score','Evidence Level']])\n",
    "\n",
    "print(Stressor_AOP_edgelist.shape)\n",
    "\n",
    "Stressor_AOP_edgelist.head()"
   ]
  },
  {
   "cell_type": "code",
   "execution_count": 19,
   "id": "0d736cc1",
   "metadata": {},
   "outputs": [],
   "source": [
    "Stressor_AOP_edgelist.to_csv('Stressor_AOP_edgelist.tsv',sep='\\t',index=None) # output file"
   ]
  }
 ],
 "metadata": {
  "kernelspec": {
   "display_name": "Python 3 (ipykernel)",
   "language": "python",
   "name": "python3"
  },
  "language_info": {
   "codemirror_mode": {
    "name": "ipython",
    "version": 3
   },
   "file_extension": ".py",
   "mimetype": "text/x-python",
   "name": "python",
   "nbconvert_exporter": "python",
   "pygments_lexer": "ipython3",
   "version": "3.8.16"
  }
 },
 "nbformat": 4,
 "nbformat_minor": 5
}
