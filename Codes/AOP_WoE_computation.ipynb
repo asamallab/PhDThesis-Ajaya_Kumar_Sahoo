{
 "cells": [
  {
   "cell_type": "markdown",
   "id": "824e169e",
   "metadata": {},
   "source": [
    "### Author - Ajaya Kumar Sahoo\n",
    "\n",
    "#### This code computes the weight of evidence (WOE) for AOPs using their KER evidence "
   ]
  },
  {
   "cell_type": "code",
   "execution_count": 1,
   "id": "c019d7c7",
   "metadata": {},
   "outputs": [],
   "source": [
    "import pandas as pd\n",
    "import numpy as np"
   ]
  },
  {
   "cell_type": "code",
   "execution_count": 2,
   "id": "fc644208",
   "metadata": {},
   "outputs": [],
   "source": [
    "KER_table = pd.read_csv('KER_details.tsv',sep='\\t') \n",
    "# this file contain information on the AOP identifier, KER identifier, upstream KE identifier, downstream KE identifiers, and weight of evidence for each KER\n",
    "\n",
    "print(KER_table.shape)\n",
    "\n",
    "KER_table = KER_table.replace(np.nan,'',regex=True)\n",
    "\n",
    "KER_table.head()"
   ]
  },
  {
   "cell_type": "code",
   "execution_count": 3,
   "id": "e48deb3f",
   "metadata": {},
   "outputs": [],
   "source": [
    "AOP_list = [i for i in open('AOP_list.tsv')] # list of AOPs for which WOE needs to be calculated\n"
   ]
  },
  {
   "cell_type": "code",
   "execution_count": 4,
   "id": "ee930ed3",
   "metadata": {},
   "outputs": [],
   "source": [
    "# getting the KERs for the list of AOPs\n",
    "\n",
    "KER_table_AOPs = pd.DataFrame(KER_table[KER_table['AOP Identifier'].isin(AOP_list)])\n",
    "\n",
    "print(KER_table_AOPs.shape)\n",
    "\n",
    "print(len(set(KER_table_AOPs['KER Identifier'])))\n",
    "KER_table_AOPs.head()"
   ]
  },
  {
   "cell_type": "code",
   "execution_count": 5,
   "id": "11696664",
   "metadata": {},
   "outputs": [],
   "source": [
    "# create an empty list containing the header row of the proposed dataframe\n",
    "AOP_evidence = [['AOP_iden','No_of_KERs','F(high)','F(Moderate)','F(Low)','F(Not Specified)']]\n",
    "\n",
    "#Loop through the different AOPs and get the corresponding information\n",
    "for aop_iden in AOP_list:\n",
    "    # creating a temporary dataframe containing only the entries from the aop_iden\n",
    "    temp_df = pd.DataFrame(KER_table_AOPs[KER_table_AOPs['AOP Identifier'] == aop_iden])\n",
    "\n",
    "    no_of_kers = len(temp_df['KER Identifier'])\n",
    "    \n",
    "    f_high = temp_df[temp_df['Weight of Evidence'] == 'High'].shape[0]/no_of_kers\n",
    "    \n",
    "    f_moderate = temp_df[temp_df['Weight of Evidence'] == 'Moderate'].shape[0]/no_of_kers\n",
    "    \n",
    "    f_low = temp_df[temp_df['Weight of Evidence'] == 'Low'].shape[0]/no_of_kers\n",
    "    \n",
    "    f_not_specified = temp_df[temp_df['Weight of Evidence'] == 'Not Specified'].shape[0]/no_of_kers\n",
    "    \n",
    "    AOP_evidence.append([aop_iden,no_of_kers,f_high,f_moderate,f_low,f_not_specified])\n",
    "    \n",
    "AOP_evidence_df = pd.DataFrame(AOP_evidence[1:],columns = AOP_evidence[0])\n",
    "print(AOP_evidence_df.shape)\n",
    "AOP_evidence_df.head()"
   ]
  },
  {
   "cell_type": "code",
   "execution_count": 6,
   "id": "09f2a505",
   "metadata": {},
   "outputs": [],
   "source": [
    "def woe_score(row):\n",
    "    if row['F(high)'] >= 0.5:\n",
    "        return 'High'\n",
    "    else:\n",
    "        if row['F(high)'] + row['F(Moderate)'] >= 0.5:\n",
    "            return 'Moderate'\n",
    "        else:\n",
    "            if row['F(high)'] + row['F(Moderate)'] + row['F(Low)'] >= 0.5:\n",
    "                return 'Low'\n",
    "            else:\n",
    "                return 'Not Specified'"
   ]
  },
  {
   "cell_type": "code",
   "execution_count": 7,
   "id": "00bd6cb1",
   "metadata": {},
   "outputs": [],
   "source": [
    "AOP_evidence_df['WoE_score'] = AOP_evidence_df.apply(lambda row: woe_score(row),axis=1)\n",
    "print(AOP_evidence_df.shape)\n",
    "AOP_evidence_df.head()"
   ]
  },
  {
   "cell_type": "code",
   "execution_count": 8,
   "id": "a7955019",
   "metadata": {},
   "outputs": [],
   "source": [
    "AOP_evidence_df.to_csv('AOPs_WoE.tsv',sep='\\t',index=None,encoding='UTF-8') # output file"
   ]
  }
 ],
 "metadata": {
  "kernelspec": {
   "display_name": "Python 3 (ipykernel)",
   "language": "python",
   "name": "python3"
  },
  "language_info": {
   "codemirror_mode": {
    "name": "ipython",
    "version": 3
   },
   "file_extension": ".py",
   "mimetype": "text/x-python",
   "name": "python",
   "nbconvert_exporter": "python",
   "pygments_lexer": "ipython3",
   "version": "3.8.16"
  }
 },
 "nbformat": 4,
 "nbformat_minor": 5
}
