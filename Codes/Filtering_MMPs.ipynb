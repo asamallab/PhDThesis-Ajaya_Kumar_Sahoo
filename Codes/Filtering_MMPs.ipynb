{
 "cells": [
  {
   "cell_type": "markdown",
   "id": "1d6f1881",
   "metadata": {},
   "source": [
    "### Author - Ajaya Kumar Sahoo\n",
    "\n",
    "#### First compute exhaustive list of fragments using mmpdb (https://github.com/rdkit/mmpdb)\n",
    "    \n",
    "    - input.tsv should have the canonicalized SMILES as first column and chemical identifier as the second column\n",
    "    - mmpdb fragment --max-heavies none --max-rotatable-bonds none input.tsv -o input_fragment.tsv\n",
    "\n",
    "#### Second perform indexing of these fragment using mmpdb (https://github.com/rdkit/mmpdb)\n",
    "    - mmpdb index --max-variable-heavies none input_fragment.tsv --output input_fragment_indexed.tsv\n",
    "\n",
    "#### This code filters MMPs using different criteria proposed by Hu et al.  (https://pubs.acs.org/doi/10.1021/ci3001138)"
   ]
  },
  {
   "cell_type": "code",
   "execution_count": 1,
   "id": "1e4eb54e",
   "metadata": {},
   "outputs": [],
   "source": [
    "import pandas as pd\n",
    "from rdkit import Chem"
   ]
  },
  {
   "cell_type": "code",
   "execution_count": 3,
   "id": "b810744d",
   "metadata": {
    "scrolled": true
   },
   "outputs": [],
   "source": [
    "df1 = pd.read_csv('input_fragment_indexed.tsv',sep='\\t',dtype=str,header=None,encoding='UTF-8') # input file\n",
    "print(df1.shape)\n",
    "df1.columns = ['Smi1','Smi2','iden1','iden2','transformation','core']\n",
    "print(df1.shape)\n",
    "\n",
    "\n",
    "df1['iden1'] = df1['iden1'].str.strip()\n",
    "df1['iden2'] = df1['iden2'].str.strip()\n",
    "\n",
    "def Get_iden_trans(x):\n",
    "    # this function will give the sorted combined string for identifier \n",
    "    iden1 = x['iden1']\n",
    "    iden2 = x['iden2']\n",
    "    return '|'.join(sorted([iden1,iden2]))\n",
    "\n",
    "df1['iden_transform'] = df1.apply(lambda x:Get_iden_trans(x),axis=1)\n",
    "\n",
    "print(df1.shape)\n",
    "df1.head()"
   ]
  },
  {
   "cell_type": "code",
   "execution_count": 5,
   "id": "5ddffb7b",
   "metadata": {},
   "outputs": [],
   "source": [
    "## Criteria to identify MMPs (https://pubs.acs.org/doi/10.1021/ci3001138)\n",
    "\n",
    "# condition 1 - heavy atom counts of the components in the transformation should differ by a maximum of 8 atoms \n",
    "# condition 2 - keys (the core in the dataframe) should be at least twice the size of each component in the transformation\n",
    "# condition 3 - the fragment should be <= 13\n",
    "# condition 4 - for several tranaformation of a given pair, only the smallest transformation is retained\n"
   ]
  },
  {
   "cell_type": "code",
   "execution_count": 4,
   "id": "20a95ce5",
   "metadata": {},
   "outputs": [],
   "source": [
    "# condition 1\n",
    "\n",
    "def Get_heavyatoms_num(smart):\n",
    "    '''\n",
    "    count the number of heavy atoms from smarts\n",
    "    '''\n",
    "    mol = Chem.MolFromSmarts(smart)\n",
    "    num = mol.GetNumHeavyAtoms()\n",
    "    return num\n",
    "\n",
    "def Check_heavy_atom_count(x):\n",
    "    '''\n",
    "    compute the number of heavy atoms for transformation fragments\n",
    "    Then check the absolute difference \n",
    "    return 1 if the difference <= 8 else 0\n",
    "    '''\n",
    "    transformation = str(x['transformation']) # take the transformation\n",
    "    frag_num = list(map(Get_heavyatoms_num,transformation.split('>>'))) # apply Get_heavyatoms_num function\n",
    "    return(int(abs(frag_num[0] - frag_num[1]) <= 8)) # compare the difference with the cutoff 8\n",
    "\n",
    "df1['frag_num_diff'] = df1.apply(lambda x: Check_heavy_atom_count(x),axis=1)\n",
    "print(df1.shape)\n",
    "df1.head()"
   ]
  },
  {
   "cell_type": "code",
   "execution_count": 5,
   "id": "619a1e1d",
   "metadata": {},
   "outputs": [],
   "source": [
    "# Filter the dataframe which has frag_num_diff == 1; satisfy the condition 1\n",
    "\n",
    "df2 = pd.DataFrame(df1[df1['frag_num_diff']==1].reset_index(drop=True))\n",
    "print(df2.shape)\n",
    "df2.head()"
   ]
  },
  {
   "cell_type": "code",
   "execution_count": 6,
   "id": "ae73dbfd",
   "metadata": {},
   "outputs": [],
   "source": [
    "# condition 2\n",
    "\n",
    "def Check_condition2(core_num,frag_num):\n",
    "    '''\n",
    "    checks if the number of heavy atoms in the core >= 2*(the number of heavy atoms) for both the fragments\n",
    "    core_num is a number\n",
    "    frag_num is a list containing numbers\n",
    "    '''\n",
    "    frag_num_2 = [2*i for i in frag_num] # multiply 2 to each element in the list\n",
    "    frag_num_comp = [core_num >= k for k in frag_num_2] # check if the number of heavy atoms in the core >= 2*(the number of heavy atoms)\n",
    "    return (int(all(frag_num_comp)))  # frag_num_comp contains True or False, all(frag_num_comp) ==1 if all are True, else 0\n",
    "    \n",
    "def Compare_core_transformation_fragment(x):\n",
    "    '''\n",
    "    This function will compare the number of heavy atoms with the number of heavy atoms in each fragment/component of the transformation\n",
    "    if for both the component in the transformation the number of heavy atoms are less than that of the core, it will give a value 1, else 0\n",
    "    '''\n",
    "    core = str(x['core']) # reading the core\n",
    "    transformation = str(x['transformation']) # reading the transformation\n",
    "    heavys = list(map(Get_heavyatoms_num, transformation.split('>>'))) # apply Get_heavyatoms_num to each fragment of transformation\n",
    "    core_heavy = Get_heavyatoms_num(core)\n",
    "    flag = Check_condition2(core_heavy,heavys)\n",
    "    return flag\n",
    "\n",
    "df2['Compare_core_fragments'] = df2.apply(lambda x: Compare_core_transformation_fragment(x), axis=1)\n",
    "\n",
    "print(df2.shape)\n",
    "df2.head()"
   ]
  },
  {
   "cell_type": "code",
   "execution_count": 7,
   "id": "8df4d7b2",
   "metadata": {},
   "outputs": [],
   "source": [
    "# Filter the dataframe which has Compare_core_fragments == 1; satisfy the condition 2\n",
    "\n",
    "df3 = pd.DataFrame(df2[df2['Compare_core_fragments']==1].reset_index(drop=True))\n",
    "print(df3.shape)\n",
    "df3.head()"
   ]
  },
  {
   "cell_type": "code",
   "execution_count": 8,
   "id": "9d68b057",
   "metadata": {},
   "outputs": [],
   "source": [
    "# condition 3 \n",
    "def maximum_fragment_size(x):\n",
    "    '''\n",
    "    This function will check the number of heavy atoms in each fragment/component of the transformation\n",
    "    if the number of heavy atoms in each fragment <= 13 it will give a value 1, else 0\n",
    "    '''\n",
    "    \n",
    "    transformation = str(x['transformation']) # reading the transformation\n",
    "    heavys = list(map(Get_heavyatoms_num, transformation.split('>>'))) # apply Get_heavyatoms_num to each fragment of transformation\n",
    "    if max(heavys) > 13:\n",
    "        flag = 0\n",
    "    else:\n",
    "        flag = 1\n",
    "                \n",
    "    return flag"
   ]
  },
  {
   "cell_type": "code",
   "execution_count": 9,
   "id": "8330c9f3",
   "metadata": {},
   "outputs": [],
   "source": [
    "# filter based on condition 3\n",
    "    \n",
    "df3['max_heavy_fragments'] = df3.apply(lambda x: maximum_fragment_size(x), axis=1)\n",
    "print(df3.shape)\n",
    "df3.head()\n",
    "df3 = pd.DataFrame(df3[df3['max_heavy_fragments']==1].reset_index(drop=True))\n",
    "print(df3.shape)\n",
    "df3.head()"
   ]
  },
  {
   "cell_type": "code",
   "execution_count": 11,
   "id": "37aa2934",
   "metadata": {},
   "outputs": [],
   "source": [
    "# Group the transformation based on the identifier\n",
    "\n",
    "df4 = pd.DataFrame(df3[['iden_transform', 'transformation']]) # I am not considering the iden1 and iden2. I can merge them later\n",
    "print(df4.shape)\n",
    "print(len(set(list(df3['iden_transform']))))\n",
    "df4 = df4.groupby('iden_transform').agg(lambda x: '|'.join(sorted([i for i in list(set(x)) if i != '']))).reset_index() # grouping the transformation with same id\n",
    "\n",
    "print(df4.shape)\n",
    "df4.head()"
   ]
  },
  {
   "cell_type": "code",
   "execution_count": 12,
   "id": "f02d8624",
   "metadata": {},
   "outputs": [],
   "source": [
    "# condition 4\n",
    "\n",
    "def Get_transformation_smallest_deviation(pairs):\n",
    "    '''\n",
    "    For a given pair, this program will consider all the possible transformation V1>>V2|V3>>V4\n",
    "    Then, it will compute the number of heavy atoms for both sides of the transformation;|V1| = number of heavy atoms in V1\n",
    "    for a given transformation V1>>V2, compute the absolute deviation of the heavy atom counts between the exchanged groups\n",
    "    this is given by absolute deviation of the heavy atom counts = abs(|V1|-|V2|)\n",
    "    Keep the exchanged group with the least number of absolute deviation of the heavy atom counts.\n",
    "    '''\n",
    "    groups = str(pairs['transformation']).split('|') # this will give [V1>>V2, V3>>V4]\n",
    "    \n",
    "    count_dic = {}\n",
    "    \n",
    "    for group in groups: # consider V1>>V2\n",
    "        fragments = group.split('>>') # this will give [V1,V2]        \n",
    "        \n",
    "        atom_count = list(map(Get_heavyatoms_num,fragments))\n",
    "        \n",
    "        dev_heavy = abs(atom_count[0] - atom_count[1]) # this is the absolute deviation of the heavy atom count in the exchanged group\n",
    "        count_dic[group] = dev_heavy # store the absolute deviation of the heavy atom counts for each exchanged groups  \n",
    "    \n",
    "    groups_f = []\n",
    "    for k in count_dic.keys():\n",
    "        if count_dic[k] == min(list(count_dic.values())): # key with the minimum absolute deviation of the heavy atom counts for exchanged groups\n",
    "            groups_f.append(k)\n",
    "    return '|'.join(groups_f)        "
   ]
  },
  {
   "cell_type": "code",
   "execution_count": 13,
   "id": "32ab3c99",
   "metadata": {
    "scrolled": true
   },
   "outputs": [],
   "source": [
    "df4['groups'] = df4.apply(lambda x: Get_transformation_smallest_deviation(x),axis=1) # applying the function\n",
    "print(df4.shape)\n",
    "\n",
    "df4['transformation_number'] = df4['transformation'].apply(lambda x: len(x.split('|')))\n",
    "df4['groups_number'] = df4['groups'].apply(lambda x: len(x.split('|')))\n",
    "print(df4.shape)\n",
    "df4.head()"
   ]
  },
  {
   "cell_type": "code",
   "execution_count": 14,
   "id": "ca376f83",
   "metadata": {},
   "outputs": [],
   "source": [
    "def compare(x):\n",
    "    trans = str(x['transformation_number'])\n",
    "    groups = str(x['groups_number'])\n",
    "    return int(trans==groups)\n",
    "df4['compare'] = df4.apply(lambda x: compare(x),axis=1)\n",
    "print(df4.shape)\n",
    "print(df4[df4['compare'] ==0].shape[0]) # this denotes that all the transformation_number same as groups. \n",
    "# # So no transformation or groups are removed from df3 after applying Get_transformation_smallest_deviation"
   ]
  },
  {
   "cell_type": "code",
   "execution_count": 15,
   "id": "a29dc227",
   "metadata": {},
   "outputs": [],
   "source": [
    "# df3 has all possible transformation and cores for the chemical pairs forming MMPs.\n",
    "MMPs = pd.DataFrame(df3[['Smi1','Smi2','iden1','iden2','transformation','core','iden_transform']])\n",
    "print(MMPs.shape)\n",
    "MMPs.head()"
   ]
  },
  {
   "cell_type": "code",
   "execution_count": 16,
   "id": "d4a252f0",
   "metadata": {},
   "outputs": [],
   "source": [
    "MMPs.to_csv('MMP_output.tsv',sep='\\t',index=None) # output file"
   ]
  }
 ],
 "metadata": {
  "kernelspec": {
   "display_name": "Python 3 (ipykernel)",
   "language": "python",
   "name": "python3"
  },
  "language_info": {
   "codemirror_mode": {
    "name": "ipython",
    "version": 3
   },
   "file_extension": ".py",
   "mimetype": "text/x-python",
   "name": "python",
   "nbconvert_exporter": "python",
   "pygments_lexer": "ipython3",
   "version": "3.8.16"
  }
 },
 "nbformat": 4,
 "nbformat_minor": 5
}
