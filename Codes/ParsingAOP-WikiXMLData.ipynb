{
 "cells": [
  {
   "cell_type": "markdown",
   "id": "c483db19",
   "metadata": {},
   "source": [
    "### Author - Ajaya Kumar Sahoo\n",
    "\n",
    "#### Download the latest AOP-Wiki XML file from https://aopwiki.org/downloads\n",
    "#### Before using the downloaded XML file, manually modify the following:\n",
    "```xml\n",
    "<data xmlns=\"http://www.aopkb.org/aop-xml\"> to <data xmlns=\"\">\n",
    "\n",
    "```\n",
    "\n",
    "#### This code parse the AOP-Wiki XML file and gives the AOP, KE and KER data"
   ]
  },
  {
   "cell_type": "code",
   "execution_count": 1,
   "id": "90b8d17d",
   "metadata": {},
   "outputs": [],
   "source": [
    "import xml.etree.ElementTree as et\n",
    "import pandas as pd\n",
    "import numpy as np"
   ]
  },
  {
   "cell_type": "code",
   "execution_count": 2,
   "id": "776f534a",
   "metadata": {},
   "outputs": [],
   "source": [
    "# read the edited aop-wiki xml data file\n",
    "tree = et.parse('aop-wiki-xml_edited') # change the file name"
   ]
  },
  {
   "cell_type": "code",
   "execution_count": 3,
   "id": "c514f71d",
   "metadata": {},
   "outputs": [],
   "source": [
    "# Get root\n",
    "root = tree.getroot()\n",
    "root"
   ]
  },
  {
   "cell_type": "markdown",
   "id": "75f34ca8",
   "metadata": {},
   "source": [
    "# Vendor-specific data"
   ]
  },
  {
   "cell_type": "markdown",
   "id": "b559b0ff",
   "metadata": {},
   "source": [
    "## Key-Events"
   ]
  },
  {
   "cell_type": "code",
   "execution_count": 4,
   "id": "25053662",
   "metadata": {},
   "outputs": [],
   "source": [
    "# Creating a dataframe of the keyevent reference id and the corresponding aop-wiki id \n",
    "\n",
    "Key_event_id = pd.DataFrame({'ref':[i.attrib.get('id') for i in  root.findall('./vendor-specific/key-event-reference')],\n",
    "                            'iden':[i.attrib.get('aop-wiki-id') for i in  root.findall('./vendor-specific/key-event-reference')]\n",
    "                            },columns = ['ref','iden'])\n",
    "print(Key_event_id.shape)\n",
    "Key_event_id.head()"
   ]
  },
  {
   "cell_type": "code",
   "execution_count": 6,
   "id": "30cdadab",
   "metadata": {},
   "outputs": [],
   "source": [
    "# Create a dictionary of the above dataframe to map the ref with id in later cells\n",
    "\n",
    "ke_ref_to_id_map_dict = dict(zip(Key_event_id['ref'],Key_event_id['iden']))\n",
    "print(len(ke_ref_to_id_map_dict))\n",
    "\n",
    "#ke_ref_to_id_map_dict"
   ]
  },
  {
   "cell_type": "markdown",
   "id": "9726d67f",
   "metadata": {},
   "source": [
    "## Key-Events-Relationship"
   ]
  },
  {
   "cell_type": "code",
   "execution_count": 9,
   "id": "296df41c",
   "metadata": {},
   "outputs": [],
   "source": [
    "# Creating a dataframe of the keyevent relationship reference id and the corresponding aop-wiki id \n",
    "\n",
    "Key_event_relationship_id = pd.DataFrame({'ref':[i.attrib.get('id') for i in  root.findall('./vendor-specific/key-event-relationship-reference')],\n",
    "                            'iden':[i.attrib.get('aop-wiki-id') for i in  root.findall('./vendor-specific/key-event-relationship-reference')]\n",
    "                            },columns = ['ref','iden'])\n",
    "print(Key_event_relationship_id.shape)\n",
    "Key_event_relationship_id.head()"
   ]
  },
  {
   "cell_type": "code",
   "execution_count": 10,
   "id": "0c0488a2",
   "metadata": {},
   "outputs": [],
   "source": [
    "# Create a dictionary of the above dataframe to map the ref with id in later cells\n",
    "\n",
    "ker_ref_to_id_map_dict = dict(zip(Key_event_relationship_id['ref'],Key_event_relationship_id['iden']))\n",
    "print(len(ker_ref_to_id_map_dict))\n",
    "\n",
    "#ker_ref_to_id_map_dict"
   ]
  },
  {
   "cell_type": "markdown",
   "id": "a5e6d091",
   "metadata": {},
   "source": [
    "## AOP"
   ]
  },
  {
   "cell_type": "code",
   "execution_count": 11,
   "id": "80ea5c41",
   "metadata": {},
   "outputs": [],
   "source": [
    "# Creating a dataframe of the keyevent relationship reference id and the corresponding aop-wiki id \n",
    "\n",
    "aop_id = pd.DataFrame({'ref':[i.attrib.get('id') for i in  root.findall('./vendor-specific/aop-reference')],\n",
    "                            'iden':[i.attrib.get('aop-wiki-id') for i in  root.findall('./vendor-specific/aop-reference')]\n",
    "                            },columns = ['ref','iden'])\n",
    "print(aop_id.shape)\n",
    "aop_id.head()"
   ]
  },
  {
   "cell_type": "code",
   "execution_count": 12,
   "id": "6193e7d9",
   "metadata": {},
   "outputs": [],
   "source": [
    "# Create a dictionary of the above dataframe to map the ref with id in later cells\n",
    "\n",
    "aop_ref_to_id_map_dict = dict(zip(aop_id['ref'],aop_id['iden']))\n",
    "print(len(aop_ref_to_id_map_dict))\n",
    "\n",
    "#aop_ref_to_id_map_dict"
   ]
  },
  {
   "cell_type": "markdown",
   "id": "e533b99e",
   "metadata": {},
   "source": [
    "## Stressor"
   ]
  },
  {
   "cell_type": "code",
   "execution_count": 13,
   "id": "64f251ca",
   "metadata": {
    "scrolled": true
   },
   "outputs": [],
   "source": [
    "# Creating a dataframe of the keyevent relationship reference id and the corresponding aop-wiki id \n",
    "\n",
    "stressor_id = pd.DataFrame({'ref':[i.attrib.get('id') for i in  root.findall('./vendor-specific/stressor-reference')],\n",
    "                            'iden':[i.attrib.get('aop-wiki-id') for i in  root.findall('./vendor-specific/stressor-reference')]\n",
    "                            })\n",
    "print(stressor_id.shape)\n",
    "stressor_id.head()\n"
   ]
  },
  {
   "cell_type": "markdown",
   "id": "90c89f18",
   "metadata": {},
   "source": [
    "## Chemical"
   ]
  },
  {
   "cell_type": "code",
   "execution_count": 14,
   "id": "caec88a6",
   "metadata": {},
   "outputs": [],
   "source": [
    "# Creating a dataframe of the keyevent relationship reference id and the corresponding aop-wiki id \n",
    "\n",
    "chemical_id = pd.DataFrame({'ref':[i.attrib.get('id') for i in  root.findall('./vendor-specific/chemical-reference')],\n",
    "                            'iden':[i.attrib.get('aop-wiki-id') for i in  root.findall('./vendor-specific/chemical-reference')]\n",
    "                            },columns = ['ref','iden'])\n",
    "print(chemical_id.shape)\n",
    "chemical_id.head()"
   ]
  },
  {
   "cell_type": "code",
   "execution_count": 15,
   "id": "140bfcf3",
   "metadata": {},
   "outputs": [],
   "source": [
    "set(chemical_id['ref']).intersection(set(stressor_id['ref']))"
   ]
  },
  {
   "cell_type": "markdown",
   "id": "8bdf987c",
   "metadata": {},
   "source": [
    "## Taxonomy"
   ]
  },
  {
   "cell_type": "code",
   "execution_count": 16,
   "id": "c2ddf4b7",
   "metadata": {},
   "outputs": [],
   "source": [
    "# Creating a dataframe of the keyevent relationship reference id and the corresponding aop-wiki id \n",
    "\n",
    "taxonomy_id = pd.DataFrame({'ref':[i.attrib.get('id') for i in  root.findall('./vendor-specific/taxonomy-reference')],\n",
    "                            'iden':[i.attrib.get('aop-wiki-id') for i in  root.findall('./vendor-specific/taxonomy-reference')]\n",
    "                            },columns = ['ref','iden'])\n",
    "print(taxonomy_id.shape)\n",
    "taxonomy_id.head()"
   ]
  },
  {
   "cell_type": "code",
   "execution_count": 17,
   "id": "c8e62295",
   "metadata": {},
   "outputs": [],
   "source": [
    "# Create a dictionary of the above dataframe to map the ref with id in later cells\n",
    "\n",
    "taxonomy_ref_to_id_map_dict = dict(zip(taxonomy_id['ref'],taxonomy_id['iden']))\n",
    "print(len(taxonomy_ref_to_id_map_dict))\n",
    "\n",
    "#taxonomy_ref_to_id_map_dict"
   ]
  },
  {
   "cell_type": "markdown",
   "id": "c1043fc3",
   "metadata": {},
   "source": [
    "### Taxonomy details"
   ]
  },
  {
   "cell_type": "code",
   "execution_count": 18,
   "id": "3efd99b6",
   "metadata": {},
   "outputs": [],
   "source": [
    "taxonomy_details = pd.DataFrame({'ref':[i.attrib.get('id') for i in  root.findall('./taxonomy')],\n",
    "                                   'source_id':[i.text if i is not None else None for i in root.findall('./taxonomy/source-id')],\n",
    "                                 'source':[i.text if i is not None else None for i in root.findall('./taxonomy/source')],\n",
    "                                 'name':[i.text if i is not None else None for i in root.findall('./taxonomy/name')],\n",
    "                                })\n",
    "print(taxonomy_details.shape)\n",
    "taxonomy_details.head()\n"
   ]
  },
  {
   "cell_type": "code",
   "execution_count": 19,
   "id": "77bca7c4",
   "metadata": {},
   "outputs": [],
   "source": [
    "# Create a dictionary of the above dataframe to map the ref with id in later cells\n",
    "\n",
    "taxonomy_ref_to_name_map_dict = dict(zip(taxonomy_details['ref'],taxonomy_details['name']))\n",
    "print(len(taxonomy_ref_to_name_map_dict))\n",
    "\n",
    "#taxonomy_ref_to_name_map_dict"
   ]
  },
  {
   "cell_type": "markdown",
   "id": "cdb5520e",
   "metadata": {},
   "source": [
    "# Chemical Data"
   ]
  },
  {
   "cell_type": "code",
   "execution_count": 20,
   "id": "08af6f12",
   "metadata": {},
   "outputs": [],
   "source": [
    "chemical_details = pd.DataFrame({'chem_ref':[i.attrib.get('id') for i in  root.findall('./chemical')],\n",
    "                                 'casid':[i.text if i is not None else None for i in root.findall('./chemical/casrn')],\n",
    "                                 'name':[i.text if i is not None else None for i in root.findall('./chemical/preferred-name')],\n",
    "                                 'dsstox':[i.text if i is not None else None for i in root.findall('./chemical/dsstox-id')],\n",
    "                                 'indigo_inchi':[i.text if i is not None else None for i in root.findall('./chemical/indigo-inchi-key')],\n",
    "                                 'chem_inchi':[i.text if i is not None else None for i in root.findall('./chemical/jchem-inchi-key')]})\n",
    "print(chemical_details.shape)\n",
    "chemical_details.head()\n"
   ]
  },
  {
   "cell_type": "code",
   "execution_count": 21,
   "id": "2b5187ab",
   "metadata": {},
   "outputs": [],
   "source": [
    "# Getting the chemical synonyms\n",
    "\n",
    "synomap = {}\n",
    "\n",
    "for node in root:\n",
    "    if node.tag == 'chemical':\n",
    "        #synonyms = []\n",
    "        ref = node.attrib.get('id')\n",
    "        synonyms = '|'.join([ele.text.strip().replace('\\n','') if ele is not None else None for ele in node.findall('./synonyms/synonym')])\n",
    "        synomap[ref] = synonyms\n",
    "print(len(synomap)) \n"
   ]
  },
  {
   "cell_type": "code",
   "execution_count": 22,
   "id": "2dcbf535",
   "metadata": {},
   "outputs": [],
   "source": [
    "# merging the synonyms columns in the chemical details dataframe\n",
    "\n",
    "chemical_details['Synonyms'] = chemical_details['chem_ref'].map(synomap)\n",
    "print(chemical_details.shape)\n",
    "chemical_details.head()"
   ]
  },
  {
   "cell_type": "markdown",
   "id": "41471075",
   "metadata": {},
   "source": [
    "# Stressor Data"
   ]
  },
  {
   "cell_type": "code",
   "execution_count": 23,
   "id": "d709c702",
   "metadata": {},
   "outputs": [],
   "source": [
    "stressor_details = pd.DataFrame({'stress_ref':[i.attrib.get('id') for i in  root.findall('./stressor')],\n",
    "                                 'stressor_name':[i.text if i is not None else None for i in root.findall('./stressor/name')],\n",
    "                                 'description':[i.text if i is not None else None for i in root.findall('./stressor/description')],\n",
    "                                 'exposure_characterization':[i.text if i is not None else None for i in root.findall('./stressor/exposure-characterization')],\n",
    "                                 'creation_timestamp':[i.text if i is not None else None for i in root.findall('./stressor/creation-timestamp')],\n",
    "                                 'last_modification_timestamp':[i.text if i is not None else None for i in root.findall('./stressor/last-modification-timestamp')]\n",
    "                                })\n",
    "\n",
    "print(stressor_details.shape)\n",
    "stressor_details.head()\n"
   ]
  },
  {
   "cell_type": "code",
   "execution_count": 24,
   "id": "60c899f6",
   "metadata": {},
   "outputs": [],
   "source": [
    "# Get the chemical id and user term from the stressor id\n",
    "\n",
    "temp_df = []\n",
    "for node in root:\n",
    "    if node.tag == 'stressor':\n",
    "        stressor_id = node.attrib.get('id')\n",
    "        tmp_root = node\n",
    "        for subnodes in tmp_root:\n",
    "            if subnodes.tag == 'chemicals':\n",
    "                tmp_root2 = subnodes\n",
    "                for subsubnode in tmp_root2:\n",
    "                    if subsubnode.tag == 'chemical-initiator':\n",
    "                        chem_id = subsubnode.attrib.get('chemical-id')\n",
    "                        user_term = subsubnode.attrib.get('user-term')\n",
    "                        temp_df.append([stressor_id,chem_id,user_term])\n",
    "                        \n",
    "temp_df = pd.DataFrame(temp_df,columns=['stress_id','chem_id','user_term'])\n",
    "print(temp_df.shape)\n",
    "temp_df.tail()"
   ]
  },
  {
   "cell_type": "code",
   "execution_count": 25,
   "id": "7317a8e5",
   "metadata": {},
   "outputs": [],
   "source": [
    "# getting the stressor chemical mapping\n",
    "\n",
    "stressor_ref_chemical_ref_mapping = {}\n",
    "\n",
    "for ind,row in temp_df.iterrows():\n",
    "    stressor = temp_df.at[ind,'stress_id']\n",
    "    chem_ref = temp_df.at[ind,'chem_id']\n",
    "    cas_id = chemical_details.loc[chemical_details['chem_ref']==chem_ref,'casid'].iloc[0]\n",
    "    \n",
    "    stressor_ref_chemical_ref_mapping[stressor] = cas_id\n",
    "\n",
    "print(len(stressor_ref_chemical_ref_mapping))"
   ]
  },
  {
   "cell_type": "code",
   "execution_count": 26,
   "id": "5c6d3726",
   "metadata": {},
   "outputs": [],
   "source": [
    "# Getting the chemical information of the stressors using the chemical-initiator chemical identifier as the overlapping column name\n",
    "\n",
    "stressor_details_merged = stressor_details.merge(temp_df,left_on='stress_ref',right_on='stress_id',how='outer')\n",
    "print(stressor_details_merged.shape)\n",
    "stressor_details_merged = stressor_details_merged.replace(np.nan,'',regex=True)\n",
    "stressor_details_merged.head()\n"
   ]
  },
  {
   "cell_type": "code",
   "execution_count": 27,
   "id": "edc89bad",
   "metadata": {},
   "outputs": [],
   "source": [
    "# merging the stressor details with chemical details file\n",
    "\n",
    "stressor_chemical_details = stressor_details_merged.merge(chemical_details,left_on='chem_id',right_on='chem_ref',how='inner')\n",
    "print(stressor_chemical_details.shape)\n",
    "stressor_chemical_details.head()"
   ]
  },
  {
   "cell_type": "code",
   "execution_count": 28,
   "id": "0ebf1ad2",
   "metadata": {},
   "outputs": [],
   "source": [
    "# removing the unnecessary columns from the stressor chemical merged table\n",
    "\n",
    "stressor_chemical_details = pd.DataFrame(stressor_chemical_details[['stress_ref','stressor_name','description',\n",
    "                                                                   'exposure_characterization','creation_timestamp',\n",
    "                                                                    'last_modification_timestamp','chem_ref','casid',\n",
    "                                                                   'name','dsstox','indigo_inchi','chem_inchi','Synonyms']])\n",
    "print(stressor_chemical_details.shape)\n",
    "\n",
    "for col in stressor_chemical_details.columns:\n",
    "    stressor_chemical_details[col] = stressor_chemical_details[col].str.replace('\\n','')\n",
    "    stressor_chemical_details[col] = stressor_chemical_details[col].str.replace('\\t','')\n",
    "stressor_chemical_details.head()"
   ]
  },
  {
   "cell_type": "code",
   "execution_count": 29,
   "id": "85aeb312",
   "metadata": {},
   "outputs": [],
   "source": [
    "#unique stressor ids available\n",
    "len(stressor_chemical_details['stress_ref'].unique())"
   ]
  },
  {
   "cell_type": "code",
   "execution_count": 30,
   "id": "1b862f26",
   "metadata": {},
   "outputs": [],
   "source": [
    "# mapping stress ref and chemicals name\n",
    "stress_ref_to_chemname_map = dict(zip(stressor_chemical_details['stress_ref'],stressor_chemical_details['name']))\n",
    "len(stress_ref_to_chemname_map)"
   ]
  },
  {
   "cell_type": "markdown",
   "id": "8473aba6",
   "metadata": {},
   "source": [
    "# AOP"
   ]
  },
  {
   "cell_type": "code",
   "execution_count": 31,
   "id": "e8298251",
   "metadata": {
    "scrolled": true
   },
   "outputs": [],
   "source": [
    "aop_title_status = pd.DataFrame({'aop_ref':[i.attrib.get('id') for i in  root.findall('./aop')],\n",
    "                                 'aop_title':[i.text if i is not None else None for i in root.findall('./aop/title')],\n",
    "                                })\n",
    "\n",
    "print(aop_title_status.shape)\n",
    "\n",
    "# Getting all the status information\n",
    "\n",
    "shortname = {}\n",
    "wikistatus = {}\n",
    "oecdstatus = {}\n",
    "saaopstatus = {}\n",
    "\n",
    "for node in root:\n",
    "    if node.tag == 'aop':\n",
    "        #synonyms = []\n",
    "        ref = node.attrib.get('id')\n",
    "        #print(node)\n",
    "        short_n = '|'.join([ele.text.strip().replace('\\n','') if ele is not None else None for ele in node.findall('./short-name')])\n",
    "            \n",
    "        wiki_s = '|'.join([ele.text.strip().replace('\\n','') if ele is not None else None for ele in node.findall('./status/wiki-status')])\n",
    "        oecd_s = '|'.join([ele.text.strip().replace('\\n','') if ele is not None else None for ele in node.findall('./status/oecd-status')])\n",
    "        saaop_s = '|'.join([ele.text.strip().replace('\\n','') if ele is not None else None for ele in node.findall('./status/saaop-status')])\n",
    "        \n",
    "        shortname[ref] = short_n\n",
    "        wikistatus[ref] = wiki_s\n",
    "        oecdstatus[ref] = oecd_s\n",
    "        saaopstatus[ref] = saaop_s \n",
    "print(len(shortname),len(wikistatus),len(oecdstatus),len(saaopstatus))\n",
    "\n",
    "aop_title_status['short_name'] = aop_title_status['aop_ref'].map(shortname)\n",
    "aop_title_status['wiki_status'] = aop_title_status['aop_ref'].map(wikistatus)\n",
    "aop_title_status['oecd_status'] = aop_title_status['aop_ref'].map(oecdstatus)\n",
    "aop_title_status['saaop_status'] = aop_title_status['aop_ref'].map(saaopstatus)\n",
    "\n",
    "print(aop_title_status.shape)\n",
    "\n",
    "for col in aop_title_status.columns:\n",
    "    aop_title_status[col] = aop_title_status[col].str.replace('\\n','')\n",
    "    aop_title_status[col] = aop_title_status[col].str.strip().str.replace('\\t','')\n",
    "    \n",
    "aop_title_status.head()"
   ]
  },
  {
   "cell_type": "code",
   "execution_count": 32,
   "id": "7292270f",
   "metadata": {},
   "outputs": [],
   "source": [
    "# mapping with respect to aop_ref to get the corresponding aop_iden\n",
    "aop_title_status['aop_iden'] = aop_title_status['aop_ref'].map(aop_ref_to_id_map_dict)\n",
    "print(aop_title_status.shape)\n",
    "aop_title_status.head()"
   ]
  },
  {
   "cell_type": "code",
   "execution_count": 37,
   "id": "e5b90671",
   "metadata": {},
   "outputs": [],
   "source": [
    "# Saving the AOP title status file\n",
    "#aop_title_status.to_csv('AOP-wiki-data/parsed_data/AOP_title_status.csv',sep='\\t',index=None,encoding='UTF-8')"
   ]
  },
  {
   "cell_type": "markdown",
   "id": "735b2a10",
   "metadata": {},
   "source": [
    "# Key Events"
   ]
  },
  {
   "cell_type": "code",
   "execution_count": 33,
   "id": "8b02c0a1",
   "metadata": {},
   "outputs": [],
   "source": [
    "key_events_details = pd.DataFrame({'ref':[i.attrib.get('id') for i in  root.findall('./key-event')],\n",
    "                                   'title':[i.text if i is not None else None for i in root.findall('./key-event/title')],\n",
    "                                 'BOL':[i.text if i is not None else None for i in root.findall('./key-event/biological-organization-level')], # BOL - biological organization level\n",
    "                                })\n",
    "print(key_events_details.shape)\n",
    "\n",
    "# Getting the short name, organ source id, organ source, organ name\n",
    "\n",
    "shortname = {}\n",
    "organsourceid = {}\n",
    "organsource = {}\n",
    "\n",
    "\n",
    "for node in root:\n",
    "    if node.tag == 'key-event':\n",
    "        #synonyms = []\n",
    "        ref = node.attrib.get('id')\n",
    "        #print(ref)\n",
    "        short_n = '|'.join([ele.text.strip().replace('\\n','') if ele is not None else None for ele in node.findall('./short-name')])\n",
    "        organ_s_id = '|'.join([ele.text.strip().replace('\\n','') if ele is not None else None for ele in node.findall('./organ-term/source-id')])\n",
    "        organ_s = '|'.join([ele.text.strip().replace('\\n','') if ele is not None else None for ele in node.findall('./organ-term/source')])\n",
    "\n",
    "        \n",
    "        shortname[ref] = short_n\n",
    "        organsourceid[ref] = organ_s_id\n",
    "        organsource[ref] = organ_s\n",
    "\n",
    "        \n",
    "key_events_details['short_name'] = key_events_details['ref'].map(shortname)\n",
    "key_events_details['organ_source_id'] = key_events_details['ref'].map(organsourceid)\n",
    "key_events_details['organ_source'] = key_events_details['ref'].map(organsource)\n",
    "\n",
    "\n",
    "print(key_events_details.shape)\n",
    "\n",
    "for col in key_events_details.columns:\n",
    "    key_events_details[col] = key_events_details[col].str.replace('\\n','')\n",
    "    key_events_details[col] = key_events_details[col].str.strip().str.replace('\\t','')\n",
    "\n",
    "print(key_events_details.shape)    \n",
    "key_events_details.head()"
   ]
  },
  {
   "cell_type": "code",
   "execution_count": 34,
   "id": "405dde66",
   "metadata": {},
   "outputs": [],
   "source": [
    "# getting the Action, object and process details for Key Events for AOPs \n",
    "count = 0\n",
    "noGO = 0\n",
    "KE_action_object_process = []\n",
    "\n",
    "for node in root:\n",
    "    if node.tag == 'key-event':\n",
    "        #synonyms = []\n",
    "        ref = node.attrib.get('id')\n",
    "        if len(node.findall('./biological-events/biological-event')) ==0:\n",
    "            noGO = noGO+1\n",
    "            KE_action_object_process.append([ref,'','',''])\n",
    "        else:    \n",
    "            #print(node.findall('./biological-events/biological-event'))\n",
    "            noGO = noGO\n",
    "            \n",
    "            for k in node.findall('./biological-events/biological-event'):\n",
    "                action = k.attrib.get('action-id') if k.attrib.get('action-id') is not None else ''\n",
    "                object_id = k.attrib.get('object-id') if k.attrib.get('object-id') is not None else ''\n",
    "                process = k.attrib.get('process-id') if k.attrib.get('process-id') is not None else ''\n",
    "                KE_action_object_process.append([ref,action,object_id,process])\n",
    "                                 \n",
    "        count = count+1\n",
    "print('Total number of KEs:', count)\n",
    "print('Total number of KEs which donot have any GO ids:',noGO)\n",
    "\n",
    "KE_action_object_process_df = pd.DataFrame(KE_action_object_process,columns= ['ref_id','action','object_id','process'])        \n",
    "print(KE_action_object_process_df.shape)\n",
    "KE_action_object_process_df.head()"
   ]
  },
  {
   "cell_type": "code",
   "execution_count": 35,
   "id": "20894e92",
   "metadata": {},
   "outputs": [],
   "source": [
    "# Merging key_events_details dataframe with KE_action_object_process_df dataframe\n",
    "\n",
    "KE_info = key_events_details.merge(KE_action_object_process_df,left_on = 'ref',right_on='ref_id',how='inner')\n",
    "print(KE_info.shape)\n",
    "KE_info = pd.DataFrame(KE_info[['ref','title','BOL','action','object_id','process']])\n",
    "print(KE_info.shape)\n",
    "for col in KE_info.columns:\n",
    "    KE_info[col] = KE_info[col].str.strip().str.replace('\\t','')\n",
    "    KE_info[col] = KE_info[col].str.replace('\\n','')\n",
    "KE_info.head()"
   ]
  },
  {
   "cell_type": "code",
   "execution_count": 36,
   "id": "00f079f1",
   "metadata": {},
   "outputs": [],
   "source": [
    "# Getting action name and other information\n",
    "\n",
    "Action_info = []\n",
    "for node in root:\n",
    "    if node.tag == 'biological-action':\n",
    "        #synonyms = []\n",
    "        ref = node.attrib.get('id')\n",
    "        #print(ref)\n",
    "        iden = '|'.join([ele.text.strip().replace('\\n','') if ele is not None else None for ele in node.findall('./source-id')])\n",
    "        source = '|'.join([ele.text.strip().replace('\\n','') if ele is not None else None for ele in node.findall('./source')])\n",
    "        name ='|'.join([ele.text.strip().replace('\\n','') if ele is not None else None for ele in node.findall('./name')])\n",
    "        Action_info.append([ref,iden,source,name])\n",
    "Action_info_df = pd.DataFrame(Action_info,columns= ['ref_id','iden','source','name'])\n",
    "print(Action_info_df.shape)\n",
    "Action_info_df.head()"
   ]
  },
  {
   "cell_type": "code",
   "execution_count": 37,
   "id": "c6670727",
   "metadata": {},
   "outputs": [],
   "source": [
    "# Getting object name and other information\n",
    "\n",
    "Object_info = []\n",
    "for node in root:\n",
    "    if node.tag == 'biological-object':\n",
    "        #synonyms = []\n",
    "        ref = node.attrib.get('id')\n",
    "        #print(ref)\n",
    "        iden = '|'.join([ele.text.strip().replace('\\n','') if ele is not None else None for ele in node.findall('./source-id')])\n",
    "        source = '|'.join([ele.text.strip().replace('\\n','') if ele is not None else None for ele in node.findall('./source')])\n",
    "        name ='|'.join([ele.text.strip().replace('\\n','') if ele is not None else None for ele in node.findall('./name')])\n",
    "        Object_info.append([ref,iden,source,name])\n",
    "Object_info_df = pd.DataFrame(Object_info,columns= ['ref_id','iden','source','name'])\n",
    "print(Object_info_df.shape)\n",
    "Object_info_df.head()"
   ]
  },
  {
   "cell_type": "code",
   "execution_count": 38,
   "id": "62ff7cec",
   "metadata": {},
   "outputs": [],
   "source": [
    "# Getting Process name and other information\n",
    "\n",
    "Process_info = []\n",
    "for node in root:\n",
    "    if node.tag == 'biological-process':\n",
    "        #synonyms = []\n",
    "        ref = node.attrib.get('id')\n",
    "        #print(ref)\n",
    "        iden = '|'.join([ele.text.strip().replace('\\n','') if ele is not None else None for ele in node.findall('./source-id')])\n",
    "        source = '|'.join([ele.text.strip().replace('\\n','') if ele is not None else None for ele in node.findall('./source')])\n",
    "        name ='|'.join([ele.text.strip().replace('\\n','') if ele is not None else None for ele in node.findall('./name')])\n",
    "        Process_info.append([ref,iden,source,name])\n",
    "Process_info_df = pd.DataFrame(Process_info,columns= ['ref_id','iden','source','name'])\n",
    "print(Process_info_df.shape)\n",
    "for col in Process_info_df.columns:\n",
    "    Process_info_df[col] = Process_info_df[col].str.strip().str.replace('\\t','')\n",
    "    Process_info_df[col] = Process_info_df[col].str.strip().str.replace('\\n','')\n",
    "Process_info_df.head()  \n"
   ]
  },
  {
   "cell_type": "code",
   "execution_count": 39,
   "id": "9d9458ab",
   "metadata": {},
   "outputs": [],
   "source": [
    "def Check_value_return(val):\n",
    "    try:\n",
    "        return val.iloc[0].strip()\n",
    "    except:\n",
    "        return ''\n",
    "    \n",
    "    \n",
    "for ind,row in KE_info.iterrows():\n",
    "    ref = KE_info.at[ind,'ref']\n",
    "    action = KE_info.at[ind,'action']\n",
    "    object_id = KE_info.at[ind,'object_id']\n",
    "    process = KE_info.at[ind,'process']\n",
    "    \n",
    "    \n",
    "    KE_iden = Check_value_return(Key_event_id.loc[Key_event_id['ref']== ref,'iden'])\n",
    "    \n",
    "    action = Check_value_return(Action_info_df.loc[Action_info_df['ref_id']== action,'name'])\n",
    "    \n",
    "    object_iden = Check_value_return(Object_info_df.loc[Object_info_df['ref_id']== object_id,'iden'])\n",
    "    object_name = Check_value_return(Object_info_df.loc[Object_info_df['ref_id']== object_id,'name'])\n",
    "    \n",
    "    process_iden = Check_value_return(Process_info_df.loc[Process_info_df['ref_id']== process,'iden'])\n",
    "    process_source = Check_value_return(Process_info_df.loc[Process_info_df['ref_id']== process,'source'])\n",
    "    process_name = Check_value_return(Process_info_df.loc[Process_info_df['ref_id']== process,'name'])\n",
    "    \n",
    "    KE_info.at[ind,'KE_iden'] = KE_iden\n",
    "    KE_info.at[ind,'action name'] = action\n",
    "    \n",
    "    KE_info.at[ind,'object_iden'] = object_iden\n",
    "    KE_info.at[ind,'object_name'] = object_name\n",
    "    \n",
    "    KE_info.at[ind,'process_iden'] = process_iden\n",
    "    KE_info.at[ind,'process_source'] = process_source\n",
    "    KE_info.at[ind,'process_name'] = process_name\n",
    "print(KE_info.shape)\n",
    "KE_info"
   ]
  },
  {
   "cell_type": "code",
   "execution_count": 41,
   "id": "cd3ca533",
   "metadata": {},
   "outputs": [],
   "source": [
    "KE_info = pd.DataFrame(KE_info[['ref','KE_iden','title','BOL','action name','object_iden','object_name','process_iden','process_source','process_name']])\n",
    "\n",
    "print(KE_info.shape)\n",
    "KE_info.head()"
   ]
  },
  {
   "cell_type": "code",
   "execution_count": 46,
   "id": "08b3e510",
   "metadata": {},
   "outputs": [],
   "source": [
    "# Saving the Key Events details file\n",
    "\n",
    "KE_info.to_csv('Key_events_details.csv',sep='\\t',index=None,encoding='UTF-8') # output file for KEs and their info\n"
   ]
  },
  {
   "cell_type": "markdown",
   "id": "a9cda6ce",
   "metadata": {},
   "source": [
    "### KE - Taxonomy and evidence links"
   ]
  },
  {
   "cell_type": "code",
   "execution_count": 42,
   "id": "86f86934",
   "metadata": {},
   "outputs": [],
   "source": [
    "# loop through the key events node under root, check if they have taxonomy applicability, and create a table that collates KE ref and taxonomy (with evidence)\n",
    "\n",
    "ke_taxonomy = []\n",
    "for node in root: # loop through all nodes and check if it is a key-event and proceed\n",
    "    if node.tag == 'key-event':\n",
    "        taxonomies = [i for i in node.findall('./applicability/taxonomy')] # taxonomy nodes\n",
    "        # loop through all the mies and append the aop id and the mie in each row of the map\n",
    "        for tax in taxonomies:\n",
    "            tax_id = tax.attrib.get('taxonomy-id')\n",
    "            evidence = '|'.join([i.text if i is not None else None for i in tax.findall('./evidence')])\n",
    "            ke_taxonomy.append([node.attrib.get('id'),tax_id,evidence])\n",
    "            \n",
    "ke_taxonomy_df = pd.DataFrame(ke_taxonomy,columns= ['ke_ref','tax_ref','tax_evidence'])\n",
    "print(ke_taxonomy_df.shape)\n",
    "ke_taxonomy_df.head()"
   ]
  },
  {
   "cell_type": "code",
   "execution_count": 43,
   "id": "1c3f3a8b",
   "metadata": {},
   "outputs": [],
   "source": [
    "ke_taxonomy_df['ke_id'] = ke_taxonomy_df['ke_ref'].map(ke_ref_to_id_map_dict)\n",
    "print(ke_taxonomy_df.shape)\n",
    "ke_taxonomy_df['tax_id'] = ke_taxonomy_df['tax_ref'].map(taxonomy_ref_to_id_map_dict)\n",
    "print(ke_taxonomy_df.shape)\n",
    "ke_taxonomy_df['tax_name'] = ke_taxonomy_df['tax_ref'].map(taxonomy_ref_to_name_map_dict)\n",
    "print(ke_taxonomy_df.shape)\n",
    "ke_taxonomy_df = ke_taxonomy_df[['ke_id','tax_id','tax_name','tax_evidence']]\n",
    "print(ke_taxonomy_df.shape)\n",
    "ke_taxonomy_df.head()"
   ]
  },
  {
   "cell_type": "code",
   "execution_count": 49,
   "id": "3dbe22b9",
   "metadata": {},
   "outputs": [],
   "source": [
    "#save file\n",
    "#ke_taxonomy.to_csv('KE_taxonomy_details.tsv',sep='\\t',index=None)"
   ]
  },
  {
   "cell_type": "markdown",
   "id": "68a1ff0b",
   "metadata": {},
   "source": [
    "# Key Events relationship "
   ]
  },
  {
   "cell_type": "code",
   "execution_count": 44,
   "id": "adc7a5f2",
   "metadata": {},
   "outputs": [],
   "source": [
    "key_events_relationship_details = pd.DataFrame({'ref':[i.attrib.get('id') for i in  root.findall('./key-event-relationship')],\n",
    "                                   'upstream_id':[i.text if i is not None else None for i in root.findall('./key-event-relationship/title/upstream-id')],\n",
    "                                 'downstream_id':[i.text if i is not None else None for i in root.findall('./key-event-relationship/title/downstream-id')],\n",
    "                                })\n",
    "print(key_events_relationship_details.shape)\n",
    "key_events_relationship_details.head()\n"
   ]
  },
  {
   "cell_type": "code",
   "execution_count": 45,
   "id": "7ca337ce",
   "metadata": {},
   "outputs": [],
   "source": [
    "iden = set(key_events_relationship_details['upstream_id']).union(set(key_events_relationship_details['downstream_id']))\n",
    "print(len(iden))\n",
    "len(iden.intersection(set(key_events_details['ref'])))"
   ]
  },
  {
   "cell_type": "code",
   "execution_count": 46,
   "id": "c61408c9",
   "metadata": {},
   "outputs": [],
   "source": [
    "key_events_relationship_details['ker_id'] = key_events_relationship_details['ref'].map(ker_ref_to_id_map_dict)\n",
    "print(key_events_relationship_details.shape)\n",
    "key_events_relationship_details['upstream_ke_id'] = key_events_relationship_details['upstream_id'].map(ke_ref_to_id_map_dict)\n",
    "print(key_events_relationship_details.shape)\n",
    "key_events_relationship_details['downstream_ke_id'] = key_events_relationship_details['downstream_id'].map(ke_ref_to_id_map_dict)\n",
    "print(key_events_relationship_details.shape)\n",
    "key_events_relationship_details = key_events_relationship_details[['ref','ker_id','upstream_ke_id','downstream_ke_id']]\n",
    "print(key_events_relationship_details.shape)\n",
    "key_events_relationship_details.head()"
   ]
  },
  {
   "cell_type": "code",
   "execution_count": 53,
   "id": "30ebc6ea",
   "metadata": {},
   "outputs": [],
   "source": [
    "key_events_relationship_details.to_csv('KER_details.tsv',sep='\\t',index=None) # output file for KERs"
   ]
  },
  {
   "cell_type": "code",
   "execution_count": null,
   "id": "959d9dde",
   "metadata": {},
   "outputs": [],
   "source": []
  },
  {
   "cell_type": "markdown",
   "id": "5680b0c9",
   "metadata": {},
   "source": [
    "## AOP - MIE"
   ]
  },
  {
   "cell_type": "code",
   "execution_count": 47,
   "id": "b932f7ae",
   "metadata": {},
   "outputs": [],
   "source": [
    "mie = pd.DataFrame({#'aop_ref': [i.attrib.get('id') for i in root.findall('./aop')],\n",
    "                        'mie_ref': [i.attrib.get('key-event-id') if i is not None else None for i in root.findall('./aop/molecular-initiating-event')]\n",
    "                       })\n",
    "print(mie.shape)\n",
    "mie.head()"
   ]
  },
  {
   "cell_type": "code",
   "execution_count": 48,
   "id": "32879f11",
   "metadata": {},
   "outputs": [],
   "source": [
    "aop_refs = pd.DataFrame({'aop_ref': [i.attrib.get('id') for i in root.findall('./aop')],\n",
    "                        #'mie_ref': [i.attrib.get('key-event-id') for i in root.findall('./aop/molecular-initiating-event')]\n",
    "                       })\n",
    "print(aop_refs.shape)\n",
    "aop_refs.head()"
   ]
  },
  {
   "cell_type": "code",
   "execution_count": 49,
   "id": "7eda16e9",
   "metadata": {},
   "outputs": [],
   "source": [
    "# loop through the aop ids and check if they have the mie to tag along, otherwise append None is the mie column in the datafrmae\n",
    "\n",
    "aop_mie_map = []\n",
    "for node in root: # loop through all nodes in root and then check if the attrib id is in the aop reference\n",
    "    if node.attrib.get('id') in aop_refs['aop_ref'].tolist():\n",
    "        mies = [i.attrib.get('key-event-id') for i in node.findall('./molecular-initiating-event')]\n",
    "        # loop through all the mies and append the aop id and the mie in each row of the map\n",
    "        for mie in mies:\n",
    "            aop_mie_map.append([node.attrib.get('id'),mie])\n",
    "        \n",
    "aop_mie_map_df = pd.DataFrame(aop_mie_map,columns= ['aop_ref','mie_ref'])\n",
    "print(aop_mie_map_df.shape)\n",
    "aop_mie_map_df.head()"
   ]
  },
  {
   "cell_type": "code",
   "execution_count": 50,
   "id": "3135a894",
   "metadata": {},
   "outputs": [],
   "source": [
    "# number of aops\n",
    "len(aop_mie_map_df['aop_ref'].unique())"
   ]
  },
  {
   "cell_type": "code",
   "execution_count": 51,
   "id": "f90f2d41",
   "metadata": {},
   "outputs": [],
   "source": [
    "#len of unique mies\n",
    "len(aop_mie_map_df['mie_ref'].unique())"
   ]
  },
  {
   "cell_type": "code",
   "execution_count": 52,
   "id": "5aa13745",
   "metadata": {},
   "outputs": [],
   "source": [
    "# mapping aop ref and mie ref to ids\n",
    "\n",
    "aop_mie_map_df['aop_id'] = aop_mie_map_df['aop_ref'].map(aop_ref_to_id_map_dict)\n",
    "print(aop_mie_map_df.shape)\n",
    "aop_mie_map_df['mie_id'] = aop_mie_map_df['mie_ref'].map(ke_ref_to_id_map_dict)\n",
    "print(aop_mie_map_df.shape)\n",
    "aop_mie_map_df = aop_mie_map_df[['aop_ref','aop_id','mie_id']]\n",
    "print(aop_mie_map_df.shape)\n",
    "aop_mie_map_df.head()"
   ]
  },
  {
   "cell_type": "code",
   "execution_count": null,
   "id": "866033da",
   "metadata": {},
   "outputs": [],
   "source": []
  },
  {
   "cell_type": "markdown",
   "id": "32eb0905",
   "metadata": {},
   "source": [
    "## AOP - KEs"
   ]
  },
  {
   "cell_type": "code",
   "execution_count": 53,
   "id": "2b16f6ac",
   "metadata": {},
   "outputs": [],
   "source": [
    "# loop through the aop ids and check if they have KEs to tag along, otherwise append None in ke column in the datafrmae\n",
    "\n",
    "aop_ke_map = []\n",
    "for node in root: # loop through all nodes in root and then check if the attrib id is in the aop reference\n",
    "    if node.attrib.get('id') in aop_refs['aop_ref'].tolist():\n",
    "        ke = [i.attrib.get('key-event-id') for i in node.findall('./key-events/key-event')]\n",
    "        # loop through all the KEs and append the aop id and the Ke in each row of the map\n",
    "        for keyevent in ke:\n",
    "            aop_ke_map.append([node.attrib.get('id'),keyevent])\n",
    "        \n",
    "aop_ke_map_df = pd.DataFrame(aop_ke_map,columns= ['aop_ref','ke_ref'])\n",
    "print(aop_ke_map_df.shape)\n",
    "aop_ke_map_df.head()"
   ]
  },
  {
   "cell_type": "code",
   "execution_count": 54,
   "id": "7e0a0602",
   "metadata": {},
   "outputs": [],
   "source": [
    "# unique aops\n",
    "len(aop_ke_map_df['aop_ref'].unique())"
   ]
  },
  {
   "cell_type": "code",
   "execution_count": 55,
   "id": "9803ed57",
   "metadata": {},
   "outputs": [],
   "source": [
    "# mapping aop ref and mie ref to ids\n",
    "\n",
    "aop_ke_map_df['aop_id'] = aop_ke_map_df['aop_ref'].map(aop_ref_to_id_map_dict)\n",
    "print(aop_ke_map_df.shape)\n",
    "aop_ke_map_df['ke_id'] = aop_ke_map_df['ke_ref'].map(ke_ref_to_id_map_dict)\n",
    "print(aop_ke_map_df.shape)\n",
    "aop_ke_map_df = aop_ke_map_df[['aop_ref','aop_id','ke_id']]\n",
    "print(aop_ke_map_df.shape)\n",
    "aop_ke_map_df.head()"
   ]
  },
  {
   "cell_type": "code",
   "execution_count": null,
   "id": "65e9e941",
   "metadata": {},
   "outputs": [],
   "source": []
  },
  {
   "cell_type": "markdown",
   "id": "2b6e3951",
   "metadata": {},
   "source": [
    "## AOP - AO"
   ]
  },
  {
   "cell_type": "code",
   "execution_count": 56,
   "id": "d1bd419e",
   "metadata": {},
   "outputs": [],
   "source": [
    "# loop through the aop ids and check if they have aos to tag along, otherwise append None in ao column in the datafrmae\n",
    "\n",
    "aop_ao_map = []\n",
    "for node in root: # loop through all nodes in root and then check if the attrib id is in the aop reference\n",
    "    if node.attrib.get('id') in aop_refs['aop_ref'].tolist():\n",
    "        aos = [i.attrib.get('key-event-id') for i in node.findall('./adverse-outcome')]\n",
    "        # loop through all the aos and append the aop id and the Ke in each row of the map\n",
    "        for ao in aos:\n",
    "            aop_ao_map.append([node.attrib.get('id'),ao])\n",
    "        \n",
    "aop_ao_map_df = pd.DataFrame(aop_ao_map,columns= ['aop_ref','ao_ref'])\n",
    "print(aop_ao_map_df.shape)\n",
    "aop_ao_map_df.head()"
   ]
  },
  {
   "cell_type": "code",
   "execution_count": 57,
   "id": "56990c39",
   "metadata": {},
   "outputs": [],
   "source": [
    "# unique aops\n",
    "len(aop_ao_map_df['aop_ref'].unique())"
   ]
  },
  {
   "cell_type": "code",
   "execution_count": 58,
   "id": "197250f3",
   "metadata": {},
   "outputs": [],
   "source": [
    "# mapping aop ref and mie ref to ids\n",
    "\n",
    "aop_ao_map_df['aop_id'] = aop_ao_map_df['aop_ref'].map(aop_ref_to_id_map_dict)\n",
    "print(aop_ao_map_df.shape)\n",
    "aop_ao_map_df['ao_id'] = aop_ao_map_df['ao_ref'].map(ke_ref_to_id_map_dict)\n",
    "print(aop_ao_map_df.shape)\n",
    "aop_ao_map_df = aop_ao_map_df[['aop_ref','aop_id','ao_id']]\n",
    "print(aop_ao_map_df.shape)\n",
    "aop_ao_map_df.head()"
   ]
  },
  {
   "cell_type": "code",
   "execution_count": null,
   "id": "2277f578",
   "metadata": {},
   "outputs": [],
   "source": []
  },
  {
   "cell_type": "markdown",
   "id": "3cde0680",
   "metadata": {},
   "source": [
    "## AOP-KER"
   ]
  },
  {
   "cell_type": "code",
   "execution_count": 59,
   "id": "3f6a8cfd",
   "metadata": {},
   "outputs": [],
   "source": [
    "# loop through the aop ids and check if they have kers to tag along, otherwise append None in ker column in the datafrmae\n",
    "\n",
    "aop_ker_map = []\n",
    "for node in root: # loop through all nodes in root and then check if the attrib id is in the aop reference\n",
    "    if node.attrib.get('id') in aop_refs['aop_ref'].tolist():\n",
    "        ker_nodes = [i for i in node.findall('./key-event-relationships/relationship')]\n",
    "        # loop through all the kers and append the aop id and the Ker in each row of the map\n",
    "        for ker_node in ker_nodes:\n",
    "            adjacency = '|'.join([i.text if i is not None else None for i in ker_node.findall('./adjacency')])\n",
    "            quantitative_understading_value = '|'.join([i.text if i is not None else None for i in ker_node.findall('./quantitative-understanding-value')])\n",
    "            evidence = '|'.join([i.text if i is not None else None for i in ker_node.findall('./evidence')])\n",
    "            aop_ker_map.append([node.attrib.get('id'),ker_node.attrib.get('id'),adjacency,quantitative_understading_value,evidence])\n",
    "        \n",
    "aop_ker_map_df = pd.DataFrame(aop_ker_map,columns= ['aop_ref','ker_ref','adjacency','quantitative_understanding','evidence'])\n",
    "print(aop_ker_map_df.shape)\n",
    "aop_ker_map_df.head()"
   ]
  },
  {
   "cell_type": "code",
   "execution_count": 60,
   "id": "82ca3613",
   "metadata": {},
   "outputs": [],
   "source": [
    "# mapping aop ref and ker ref to ids\n",
    "\n",
    "aop_ker_map_df['aop_id'] = aop_ker_map_df['aop_ref'].map(aop_ref_to_id_map_dict)\n",
    "print(aop_ker_map_df.shape)\n",
    "aop_ker_map_df['ker_id'] = aop_ker_map_df['ker_ref'].map(ker_ref_to_id_map_dict)\n",
    "print(aop_ker_map_df.shape)\n",
    "aop_ker_map_df = aop_ker_map_df[['aop_ref','aop_id','ker_id','adjacency','quantitative_understanding','evidence']]\n",
    "print(aop_ker_map_df.shape)\n",
    "aop_ker_map_df.head()"
   ]
  },
  {
   "cell_type": "code",
   "execution_count": 79,
   "id": "e4f949e5",
   "metadata": {},
   "outputs": [],
   "source": [
    "aop_ker_map_df.to_csv('AOP_KER_info.tsv',sep='\\t',index=None) # output file"
   ]
  },
  {
   "cell_type": "code",
   "execution_count": null,
   "id": "e11ff406",
   "metadata": {},
   "outputs": [],
   "source": []
  },
  {
   "cell_type": "markdown",
   "id": "24237206",
   "metadata": {},
   "source": [
    "## AO-taxonomy"
   ]
  },
  {
   "cell_type": "code",
   "execution_count": 61,
   "id": "5df8cfcf",
   "metadata": {},
   "outputs": [],
   "source": [
    "# loop through the aop ids and check if they have taxonomy to tag along, otherwise append None in taxonomy column in the datafrmae\n",
    "\n",
    "aop_tax_map = []\n",
    "for node in root: # loop through all nodes in root and then check if the attrib id is in the aop reference\n",
    "    if node.attrib.get('id') in aop_refs['aop_ref'].tolist():\n",
    "        tax_nodes = [i for i in node.findall('./applicability/taxonomy')]\n",
    "        # loop through all the tax and append the aop id and the tax in each row of the map\n",
    "        for tax_node in tax_nodes:\n",
    "            evidence = '|'.join([i.text if i is not None else None for i in tax_node.findall('./evidence')])\n",
    "            aop_tax_map.append([node.attrib.get('id'),tax_node.attrib.get('taxonomy-id'),evidence])\n",
    "        \n",
    "aop_tax_map_df = pd.DataFrame(aop_tax_map,columns= ['aop_ref','taxonomy_ref','evidence'])\n",
    "print(aop_tax_map_df.shape)\n",
    "aop_tax_map_df.head()"
   ]
  },
  {
   "cell_type": "code",
   "execution_count": 62,
   "id": "b76b02fc",
   "metadata": {},
   "outputs": [],
   "source": [
    "# mapping aop ref and tax ref to ids\n",
    "\n",
    "aop_tax_map_df['aop_id'] = aop_tax_map_df['aop_ref'].map(aop_ref_to_id_map_dict)\n",
    "print(aop_tax_map_df.shape)\n",
    "aop_tax_map_df['tax_name'] = aop_tax_map_df['taxonomy_ref'].map(taxonomy_ref_to_name_map_dict)\n",
    "print(aop_tax_map_df.shape)\n",
    "aop_tax_map_df = aop_tax_map_df[['aop_ref','aop_id','tax_name','evidence']]\n",
    "print(aop_tax_map_df.shape)\n",
    "aop_tax_map_df.head()"
   ]
  },
  {
   "cell_type": "code",
   "execution_count": 85,
   "id": "9e5bb867",
   "metadata": {},
   "outputs": [],
   "source": [
    "aop_tax_map_df.to_csv('ParsedData/AOP_taxonomy_info.tsv',sep='\\t',index=None) # output file"
   ]
  },
  {
   "cell_type": "code",
   "execution_count": null,
   "id": "86f917be",
   "metadata": {},
   "outputs": [],
   "source": []
  },
  {
   "cell_type": "markdown",
   "id": "3b68eb9d",
   "metadata": {},
   "source": [
    "## AOP-Stressor"
   ]
  },
  {
   "cell_type": "code",
   "execution_count": 63,
   "id": "d29b453f",
   "metadata": {},
   "outputs": [],
   "source": [
    "# loop through the aop ids and check if they have stressors to tag along, otherwise append None in stressor column in the datafrmae\n",
    "\n",
    "aop_stress_map = []\n",
    "for node in root: # loop through all nodes in root and then check if the attrib id is in the aop reference\n",
    "    if node.attrib.get('id') in aop_refs['aop_ref'].tolist():\n",
    "        stress_nodes = [i for i in node.findall('./aop-stressors/aop-stressor')]\n",
    "        # loop through all the stressors and append the aop id and the stressor in each row of the map\n",
    "        for stress_node in stress_nodes:\n",
    "            evidence = '|'.join([i.text if i is not None else None for i in stress_node.findall('./evidence')])\n",
    "            aop_stress_map.append([node.attrib.get('id'),stress_node.attrib.get('stressor-id'),evidence])\n",
    "        \n",
    "aop_stress_map_df = pd.DataFrame(aop_stress_map,columns= ['aop_ref','stressor_ref','evidence'])\n",
    "print(aop_stress_map_df.shape)\n",
    "aop_stress_map_df.head()"
   ]
  },
  {
   "cell_type": "code",
   "execution_count": 64,
   "id": "15d64f9c",
   "metadata": {},
   "outputs": [],
   "source": [
    "aops_with_chemical_stressors = pd.DataFrame(aop_stress_map_df[aop_stress_map_df['stressor_ref'].isin(stressor_chemical_details['stress_ref'].tolist())])\n",
    "print(aops_with_chemical_stressors.shape)\n",
    "aops_with_chemical_stressors.head()\n"
   ]
  },
  {
   "cell_type": "code",
   "execution_count": 65,
   "id": "f8c1b101",
   "metadata": {},
   "outputs": [],
   "source": [
    "# mapping aop ref and stress ref to ids\n",
    "\n",
    "aops_with_chemical_stressors['aop_id'] = aops_with_chemical_stressors['aop_ref'].map(aop_ref_to_id_map_dict)\n",
    "print(aops_with_chemical_stressors.shape)\n",
    "aops_with_chemical_stressors['stress_name'] = aops_with_chemical_stressors['stressor_ref'].map(stress_ref_to_chemname_map)\n",
    "print(aops_with_chemical_stressors.shape)\n",
    "aops_with_chemical_stressors = aops_with_chemical_stressors[['aop_ref','aop_id','stress_name','evidence']]\n",
    "print(aops_with_chemical_stressors.shape)\n",
    "aops_with_chemical_stressors.head()"
   ]
  },
  {
   "cell_type": "code",
   "execution_count": null,
   "id": "ee1046ef",
   "metadata": {},
   "outputs": [],
   "source": []
  },
  {
   "cell_type": "markdown",
   "id": "7e361a76",
   "metadata": {},
   "source": [
    "## Getting an overall AOP file with MIE, KEs, AOs, KERs, stressors, taxonomies"
   ]
  },
  {
   "cell_type": "code",
   "execution_count": 66,
   "id": "507b527b",
   "metadata": {},
   "outputs": [],
   "source": [
    "# function to check if the input is empty, then append '-', else keep the value\n",
    "def check_empty(string):\n",
    "    if string == '':\n",
    "        return ''\n",
    "    else:\n",
    "        return string"
   ]
  },
  {
   "cell_type": "code",
   "execution_count": 67,
   "id": "f6432f91",
   "metadata": {},
   "outputs": [],
   "source": [
    "# getting the casid of these stressors\n",
    "\n",
    "aop_stress_map_df['casid'] = aop_stress_map_df['stressor_ref'].map(stressor_ref_chemical_ref_mapping)\n",
    "\n",
    "print(aop_stress_map_df.shape)\n",
    "aop_stress_map_df = aop_stress_map_df.replace(np.nan,'',regex=True)\n",
    "\n",
    "aop_stress_map_df.head()"
   ]
  },
  {
   "cell_type": "code",
   "execution_count": 68,
   "id": "f6ded9de",
   "metadata": {},
   "outputs": [],
   "source": [
    "aop_mie_ke_ao_ker_stressor = []\n",
    "for node in root: # loop through all nodes in root and then check if the attrib id is in the aop reference\n",
    "    if node.attrib.get('id') in aop_refs['aop_ref'].tolist():\n",
    "        aop_ref = node.attrib.get('id')\n",
    "        aop_iden = aop_title_status.loc[aop_title_status['aop_ref'] == aop_ref, 'aop_iden'].iloc[0]\n",
    "        \n",
    "        aop_title = aop_title_status.loc[aop_title_status['aop_ref'] == aop_ref, 'aop_title'].iloc[0] # newly added for AOP title\n",
    "        oecd_status = aop_title_status.loc[aop_title_status['aop_ref'] == aop_ref, 'oecd_status'].iloc[0] # newly added for OECD status\n",
    "        \n",
    "        saaop_status = aop_title_status.loc[aop_title_status['aop_ref'] == aop_ref, 'saaop_status'].iloc[0]\n",
    "        all_mies =check_empty(\"|\".join(aop_mie_map_df.loc[aop_mie_map_df['aop_ref'] == aop_ref,'mie_id'].tolist()))\n",
    "        all_kes =check_empty(\"|\".join(aop_ke_map_df.loc[aop_ke_map_df['aop_ref'] == aop_ref,'ke_id'].tolist()))\n",
    "        all_aos =check_empty(\"|\".join(aop_ao_map_df.loc[aop_ao_map_df['aop_ref'] == aop_ref,'ao_id'].tolist()))\n",
    "        all_kers =check_empty(\"|\".join(aop_ker_map_df.loc[aop_ker_map_df['aop_ref'] == aop_ref,'ker_id'].tolist()))\n",
    "        all_stressors =check_empty(\"|\".join(aops_with_chemical_stressors.loc[aop_stress_map_df['aop_ref'] == aop_ref,'stress_name'].tolist()))\n",
    "        all_casid = check_empty(\"|\".join(list(set(aop_stress_map_df.loc[aop_stress_map_df['aop_ref']==aop_ref,'casid'].tolist()) - {''}) )) # latest added\n",
    "        \n",
    "        all_taxonomy = check_empty(\"|\".join(aop_tax_map_df.loc[aop_tax_map_df['aop_ref'] == aop_ref,'tax_name'].tolist()))\n",
    "        \n",
    "        aop_mie_ke_ao_ker_stressor.append([aop_ref,aop_iden,aop_title,oecd_status,saaop_status,all_mies,all_kes,all_aos,all_kers,all_stressors,all_casid,all_taxonomy])\n",
    "\n",
    "AOP_data = pd.DataFrame(aop_mie_ke_ao_ker_stressor,columns = ['AOP_ref','AOP_iden','aop_title','oecd_status','SAAOP_status','MIEs','KEs','AOs','KERs',\"Stressors\",\"chemicalID\",\"Taxonomies\"])\n",
    "print(AOP_data.shape)\n",
    "AOP_data.head()"
   ]
  },
  {
   "cell_type": "code",
   "execution_count": 107,
   "id": "20a7c08f",
   "metadata": {},
   "outputs": [],
   "source": [
    "AOP_data.to_csv('ParsedData/AOP_metadata_Title_OECDStatus_added_CAS_added.tsv',sep='\\t',index=None) # output file"
   ]
  },
  {
   "cell_type": "code",
   "execution_count": null,
   "id": "9b999b35",
   "metadata": {},
   "outputs": [],
   "source": []
  }
 ],
 "metadata": {
  "kernelspec": {
   "display_name": "Python 3 (ipykernel)",
   "language": "python",
   "name": "python3"
  },
  "language_info": {
   "codemirror_mode": {
    "name": "ipython",
    "version": 3
   },
   "file_extension": ".py",
   "mimetype": "text/x-python",
   "name": "python",
   "nbconvert_exporter": "python",
   "pygments_lexer": "ipython3",
   "version": "3.8.16"
  }
 },
 "nbformat": 4,
 "nbformat_minor": 5
}
