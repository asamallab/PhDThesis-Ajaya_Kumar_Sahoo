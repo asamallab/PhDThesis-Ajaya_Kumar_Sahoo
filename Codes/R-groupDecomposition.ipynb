{
 "cells": [
  {
   "cell_type": "markdown",
   "id": "0fde6013",
   "metadata": {},
   "source": [
    "### Author - Ajaya Kumar Sahoo\n",
    "\n",
    "####  R-group decomposition of chemical strcuture and the computation of their cyclic skeleton"
   ]
  },
  {
   "cell_type": "code",
   "execution_count": 1,
   "id": "e205e831",
   "metadata": {},
   "outputs": [
    {
     "name": "stdout",
     "output_type": "stream",
     "text": [
      "2023.03.1\n"
     ]
    }
   ],
   "source": [
    "import pandas as pd\n",
    "import rdkit\n",
    "from rdkit import Chem\n",
    "from rdkit.Chem import rdRGroupDecomposition\n",
    "print(rdkit.__version__)"
   ]
  },
  {
   "cell_type": "code",
   "execution_count": 2,
   "id": "f670ca22",
   "metadata": {},
   "outputs": [],
   "source": [
    "inp = 'input.tsv' # input file with first column = chemical id, second column = SMILES, third column = Scaffold\n",
    "# replace the input file with the input file from your machine\n",
    "\n",
    "df = pd.read_csv(inp, sep='\\t',encoding='UTF-8') \n",
    "df.columns= ['iden','SMILES','Scaffold']\n",
    "s\n",
    "print(df.shape)\n",
    "df.head()"
   ]
  },
  {
   "cell_type": "code",
   "execution_count": 15,
   "id": "0b883d0f",
   "metadata": {},
   "outputs": [],
   "source": [
    "def Convert_Scaffold_to_CSKFormat(row):\n",
    "    '''\n",
    "    Convert the scaffold to cyclic skeleton (CSK) format - \n",
    "    where all atom types are converted to 'C' and all types of bonds are converted to single bond\n",
    "    \n",
    "    Originally, this code function was from the MurckoScaffold python file in RDKit and I modified it by adding 'sanitize=False'\n",
    "    '''\n",
    "    Scaffold = str(row['Scaffold']).strip()\n",
    "    res = Chem.MolFromSmiles(Scaffold,sanitize=False)\n",
    "    for atom in res.GetAtoms():\n",
    "        if atom.GetAtomicNum() != 1:\n",
    "            atom.SetAtomicNum(6)\n",
    "        atom.SetIsAromatic(False)\n",
    "        atom.SetFormalCharge(0)\n",
    "        atom.SetChiralTag(Chem.ChiralType.CHI_UNSPECIFIED)\n",
    "        atom.SetNoImplicit(0)\n",
    "        atom.SetNumExplicitHs(0)\n",
    "    for bond in res.GetBonds():\n",
    "        bond.SetBondType(Chem.BondType.SINGLE)\n",
    "        bond.SetIsAromatic(False)\n",
    "    CSK = Chem.MolToSmiles(Chem.RemoveHs(res,sanitize=False),isomericSmiles=False,canonical=True)\n",
    "    return CSK\n",
    "\n",
    "df['Cyclic skeleton'] = df.apply(lambda row:Convert_Scaffold_to_CSKFormat(row),axis=1)\n",
    "print(df.shape)\n",
    "df.tail()"
   ]
  },
  {
   "cell_type": "code",
   "execution_count": 16,
   "id": "15347155",
   "metadata": {},
   "outputs": [],
   "source": [
    "def Rdecompose(row):\n",
    "    '''\n",
    "    This function performs R-group decomposition\n",
    "    input is the scaffold and the SMILES as strings\n",
    "    return the list containing the core, and R groups.\n",
    "    '''\n",
    "    ms = Chem.MolFromSmiles(row['SMILES'])\n",
    "    sc = Chem.MolFromSmiles(row['Scaffold'])\n",
    "    group,_ = rdRGroupDecomposition.RGroupDecompose([sc], [ms],asSmiles=True)\n",
    "    values = list(group[0].values())\n",
    "    return (values)"
   ]
  },
  {
   "cell_type": "code",
   "execution_count": 18,
   "id": "d0288715",
   "metadata": {},
   "outputs": [],
   "source": [
    "# getting the core and R-groups for all the chemicals\n",
    "\n",
    "df['Core'] = df.apply(lambda row:Rdecompose(row)[0],axis=1)\n",
    "df['R-groups'] = df.apply(lambda row:','.join(Rdecompose(row)[1:]),axis=1)\n",
    "\n",
    "print(df.shape)\n",
    "df.head()"
   ]
  },
  {
   "cell_type": "code",
   "execution_count": 19,
   "id": "70a9d234",
   "metadata": {},
   "outputs": [],
   "source": [
    "df.csv(inp.replace('.tsv','_out.tsv'),sep='\\t',index=None) # output file"
   ]
  }
 ],
 "metadata": {
  "kernelspec": {
   "display_name": "Python 3 (ipykernel)",
   "language": "python",
   "name": "python3"
  },
  "language_info": {
   "codemirror_mode": {
    "name": "ipython",
    "version": 3
   },
   "file_extension": ".py",
   "mimetype": "text/x-python",
   "name": "python",
   "nbconvert_exporter": "python",
   "pygments_lexer": "ipython3",
   "version": "3.8.16"
  }
 },
 "nbformat": 4,
 "nbformat_minor": 5
}
