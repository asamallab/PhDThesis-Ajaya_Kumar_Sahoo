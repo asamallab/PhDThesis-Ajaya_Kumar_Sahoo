{
 "cells": [
  {
   "cell_type": "markdown",
   "id": "7988b40f",
   "metadata": {},
   "source": [
    "### Author - Ajaya Kumar Sahoo\n",
    "\n",
    "#### This code filter the active ToxCast assay endpoints for chemicals using ‘cytotoxicity-associated bursts’ approach\n"
   ]
  },
  {
   "cell_type": "code",
   "execution_count": 2,
   "id": "4f3a2c76",
   "metadata": {},
   "outputs": [],
   "source": [
    "import numpy as np\n",
    "import pandas as pd\n",
    "import math"
   ]
  },
  {
   "cell_type": "code",
   "execution_count": 3,
   "id": "a8593328",
   "metadata": {},
   "outputs": [],
   "source": [
    "## reading the final mc5-6 file from ToxCast (https://www.epa.gov/comptox-tools/exploring-toxcast-data; https://clowder.edap-cluster.com/spaces/647f710ee4b08a6b394e426b)\n",
    "\n",
    "toxcast = pd.read_csv('mc5-6_winning_model_fits-flags_invitrodb_v4_1_SEPT2023.csv',dtype=str) # use the latest data from ToxCast\n",
    "\n",
    "toxcast = toxcast.replace(np.nan,'',regex=True)\n",
    "\n",
    "print(toxcast.shape)\n",
    "toxcast.head()\n"
   ]
  },
  {
   "cell_type": "code",
   "execution_count": 11,
   "id": "d21e644b",
   "metadata": {},
   "outputs": [],
   "source": [
    "# reading data from all models, mc4 file from ToxCast (https://www.epa.gov/comptox-tools/exploring-toxcast-data; https://clowder.edap-cluster.com/spaces/647f710ee4b08a6b394e426b)\n",
    "\n",
    "allfits = pd.read_csv('../../../../ToxCast/V4.1/INVITRODB_V4_1_SUMMARY/mc4_all_model_fits_invitrodb_v4_1_SEPT2023.csv') # use the latest data from ToxCast\n",
    "\n",
    "print(allfits.shape)\n",
    "allfits.head()\n",
    "\n"
   ]
  },
  {
   "cell_type": "code",
   "execution_count": 4,
   "id": "8c6ddcb6",
   "metadata": {},
   "outputs": [],
   "source": [
    "print([i for i in allfits.columns])"
   ]
  },
  {
   "cell_type": "code",
   "execution_count": 5,
   "id": "e7c4b53f",
   "metadata": {},
   "outputs": [],
   "source": [
    "#check the sign of the chemical regulation.\n",
    "sign_column = []\n",
    "for i in range(toxcast.shape[0]): # iterate through the rows in toxcast df\n",
    "    model = toxcast['modl'][i]\n",
    "    if pd.isna(model):\n",
    "        sign_column.append(0)\n",
    "        continue\n",
    "    elif model == 'none':\n",
    "        sign_column.append(0)\n",
    "        continue\n",
    "    else:\n",
    "        # column value to check in the allfits dataframe\n",
    "        col = model + '_top'\n",
    "        if allfits[col][i] > 0:\n",
    "            sign_column.append(1)\n",
    "        elif allfits[col][i] < 0 :\n",
    "            sign_column.append(-1)\n",
    "        else:\n",
    "            sign_column.append(0)\n",
    "\n",
    "print(toxcast.shape)\n",
    "toxcast['sign_of_model'] = sign_column\n",
    "print(toxcast.shape)"
   ]
  },
  {
   "cell_type": "code",
   "execution_count": 6,
   "id": "f4da7045",
   "metadata": {},
   "outputs": [],
   "source": [
    "toxcast_f = pd.DataFrame(toxcast[['casn','chnm','dsstox_substance_id','aeid','aenm','nconc','modl','hitc','sign_of_model','ac50','conc_unit']])\n",
    "\n",
    "print(toxcast_f.shape)\n",
    "toxcast_f.head()"
   ]
  },
  {
   "cell_type": "code",
   "execution_count": 7,
   "id": "bddeb7f2",
   "metadata": {},
   "outputs": [],
   "source": [
    "# Filtering the toxcast data based on the chemical list\n",
    "\n",
    "chemicals = pd.read_csv('chemicals.tsv',sep='\\t',dtype=str)\n",
    "chemicals = chemicals.replace(np.nan,'',regex=True)\n",
    "\n",
    "print(chemicals.shape)\n",
    "\n",
    "chemicals.head()"
   ]
  },
  {
   "cell_type": "code",
   "execution_count": 8,
   "id": "bcddbe89",
   "metadata": {},
   "outputs": [],
   "source": [
    "## filter the toxcast data for the chemical list\n",
    "\n",
    "toxcast_common = pd.DataFrame(toxcast_f[toxcast_f['casn'].isin(list(set(chemicals['CAS'])-{''}))])\n",
    "\n",
    "print(toxcast_common.shape)\n",
    "\n",
    "toxcast_common.head()"
   ]
  },
  {
   "cell_type": "code",
   "execution_count": 74,
   "id": "2688510c",
   "metadata": {},
   "outputs": [],
   "source": [
    "toxcast_common['hitc'] = toxcast_common['hitc'].astype(float)"
   ]
  },
  {
   "cell_type": "code",
   "execution_count": 9,
   "id": "0fe4e3a8",
   "metadata": {},
   "outputs": [],
   "source": [
    "len(set(toxcast_common['casn']))"
   ]
  },
  {
   "cell_type": "code",
   "execution_count": 10,
   "id": "d1227dad",
   "metadata": {},
   "outputs": [],
   "source": [
    "# Checking for active chemicals, hitc or hitcall >= 0.9 for active chemicals \n",
    "# the above cutoff is based on the readme file given in toxcast v4.1 data \n",
    "\n",
    "toxcast_common_active = pd.DataFrame(toxcast_common[toxcast_common['hitc'] >= 0.9])\n",
    "\n",
    "print(toxcast_common_active.shape)\n",
    "toxcast_common_active.head()"
   ]
  },
  {
   "cell_type": "code",
   "execution_count": 12,
   "id": "daf5aac2",
   "metadata": {
    "scrolled": true
   },
   "outputs": [],
   "source": [
    "## reading the cytotoxicity values for chemicals\n",
    "\n",
    "cytotox = pd.read_excel('cytotox_invitrodb_v4_1_SEPT2023.xlsx',dtype=str) # use the latest data from ToxCast\n",
    "print(cytotox.shape)\n",
    "\n",
    "chemical_cytotox = dict(zip(cytotox['casn'],cytotox['cytotox_median_log']))\n",
    "\n",
    "print(len(chemical_cytotox))\n",
    "\n",
    "\n",
    "cytotox.head()"
   ]
  },
  {
   "cell_type": "code",
   "execution_count": 13,
   "id": "f12214dd",
   "metadata": {},
   "outputs": [],
   "source": [
    "cytotox['global_mad'].unique()"
   ]
  },
  {
   "cell_type": "code",
   "execution_count": 14,
   "id": "411908de",
   "metadata": {},
   "outputs": [],
   "source": [
    "## Computing Z scores\n",
    "## We followed https://academic.oup.com/toxsci/article/152/2/323/2578946?login=true and taken the following formula\n",
    "\n",
    "def get_z_score(row):\n",
    "    '''\n",
    "    compute the z score based on the following formula\n",
    "    [-log(AC50) - (-cytotox_median_log)]/global_mad\n",
    "    '''\n",
    "    casid = row['casn']\n",
    "    if casid in chemical_cytotox: # chemical has cytotoxicity value\n",
    "        zscore = round((-math.log10(float(row['ac50']))+float(chemical_cytotox[casid]))/float(cytotox.at[1,'global_mad']),2)\n",
    "    else:\n",
    "        zscore = 0\n",
    "    return zscore"
   ]
  },
  {
   "cell_type": "code",
   "execution_count": 15,
   "id": "8862f266",
   "metadata": {},
   "outputs": [],
   "source": [
    "toxcast_common_active['zscore'] = toxcast_common_active.apply(lambda row:get_z_score(row),axis=1)\n",
    "\n",
    "print(toxcast_common_active.shape)\n",
    "toxcast_common_active.head()"
   ]
  },
  {
   "cell_type": "code",
   "execution_count": 16,
   "id": "b2011a99",
   "metadata": {},
   "outputs": [],
   "source": [
    "# checking if the absolute value of the zscore >= 3\n",
    "# We followed https://academic.oup.com/toxsci/article/152/2/323/2578946?login=true and taken the following formula\n",
    "\n",
    "toxcast_common_active_zscore = pd.DataFrame(toxcast_common_active[toxcast_common_active['zscore'].abs() >= 3])\n",
    "\n",
    "\n",
    "print(toxcast_common_active_zscore.shape)\n",
    "toxcast_common_active_zscore.head()"
   ]
  },
  {
   "cell_type": "code",
   "execution_count": 17,
   "id": "65c0830d",
   "metadata": {},
   "outputs": [],
   "source": [
    "## Getting the assay endpoint \n",
    "\n",
    "endpoint_annotations = pd.read_excel('assay_annotations_invitrodb_v4_1_SEPT2023.xlsx',dtype=str) # use the latest data from ToxCast\n",
    "\n",
    "endpoint_annotations = endpoint_annotations.replace(np.nan,'',regex=True)\n",
    "\n",
    "print(endpoint_annotations.shape)\n",
    "\n",
    "endpoint_annotations.head()\n"
   ]
  },
  {
   "cell_type": "code",
   "execution_count": 18,
   "id": "e1abdd28",
   "metadata": {},
   "outputs": [],
   "source": [
    "endpoint_annotations_sliced =  pd.DataFrame(endpoint_annotations[['aeid','assay_component_endpoint_desc','intended_target_type','signal_direction']])\n",
    "print(endpoint_annotations_sliced.shape)\n",
    "\n",
    "endpoint_annotations_sliced.head()\n",
    "\n"
   ]
  },
  {
   "cell_type": "code",
   "execution_count": 19,
   "id": "878c0078",
   "metadata": {},
   "outputs": [],
   "source": [
    "## filtering the endpoints from endpoint_annotations_sliced\n",
    "\n",
    "endpoint_annotations_common_aeid = pd.DataFrame(endpoint_annotations_sliced[endpoint_annotations_sliced['aeid'].isin(set(toxcast_common_active_zscore['aeid']))])\n",
    "\n",
    "print(endpoint_annotations_common_aeid.shape)\n",
    "\n",
    "endpoint_annotations_common_aeid.head()\n",
    "\n"
   ]
  },
  {
   "cell_type": "code",
   "execution_count": 20,
   "id": "4c20d041",
   "metadata": {},
   "outputs": [],
   "source": [
    "endpoint_gene = pd.read_excel('assay_gene_mappings_invitrodb_v4_1_SEPT2023.xlsx',dtype=str) # use the latest data from ToxCast\n",
    "\n",
    "print(endpoint_gene.shape)\n",
    "\n",
    "endpoint_gene = endpoint_gene.replace(np.nan,'',regex=True)\n",
    "\n",
    "endpoint_gene = pd.DataFrame(endpoint_gene[['aeid','entrez_gene_id','official_full_name','official_symbol','uniprot_accession_number']])\n",
    "\n",
    "print(endpoint_gene.shape)\n",
    "\n",
    "\n",
    "endpoint_gene.head()"
   ]
  },
  {
   "cell_type": "code",
   "execution_count": 21,
   "id": "8d1a860c",
   "metadata": {},
   "outputs": [],
   "source": [
    "# grouping the endpoint gene by aeid\n",
    "\n",
    "endpoint_gene_grouped = endpoint_gene.groupby(['aeid']).agg(lambda x:'|'.join(list(set([i for i in set(x)])-{''}))).reset_index()\n",
    "\n",
    "print(endpoint_gene_grouped.shape)\n",
    "\n",
    "endpoint_gene_grouped.head()\n"
   ]
  },
  {
   "cell_type": "code",
   "execution_count": 22,
   "id": "ef69e087",
   "metadata": {
    "scrolled": true
   },
   "outputs": [],
   "source": [
    "## merging the assay details and gene mapping\n",
    "\n",
    "endpoint_details = endpoint_annotations_sliced.merge(endpoint_gene_grouped,on='aeid',how='inner')\n",
    "\n",
    "print(endpoint_details.shape)\n",
    "\n",
    "endpoint_details.head()"
   ]
  },
  {
   "cell_type": "code",
   "execution_count": 23,
   "id": "272a30cb",
   "metadata": {},
   "outputs": [],
   "source": [
    "### combining toxcast data with the assay details\n",
    "\n",
    "toxcast_common_endpoints =  toxcast_common_active_zscore.merge(endpoint_details,on='aeid',how='left')\n",
    "\n",
    "print(toxcast_common_endpoints.shape)\n",
    "\n",
    "toxcast_common_endpoints.head()\n",
    "\n"
   ]
  },
  {
   "cell_type": "code",
   "execution_count": 24,
   "id": "90ec1d76",
   "metadata": {},
   "outputs": [],
   "source": [
    "toxcast_common_endpoints['assay_component_endpoint_desc'] = toxcast_common_endpoints['assay_component_endpoint_desc'].str.replace('\\n','')\n",
    "\n",
    "\n",
    "print(toxcast_common_endpoints.shape)\n",
    "\n",
    "toxcast_common_endpoints.head()\n",
    "\n"
   ]
  },
  {
   "cell_type": "code",
   "execution_count": 117,
   "id": "69b5db28",
   "metadata": {},
   "outputs": [],
   "source": [
    "## Getting the response direction for bidirectional assay endpoints\n",
    "\n",
    "def get_response(row):\n",
    "    signal_direction = row['signal_direction']\n",
    "    sign = row['sign_of_model']\n",
    "    \n",
    "    if signal_direction == 'bidirectional':\n",
    "        if sign == 1:\n",
    "            return 'gain'\n",
    "        else:\n",
    "            return 'loss'\n",
    "    else:\n",
    "        return ''   "
   ]
  },
  {
   "cell_type": "code",
   "execution_count": 25,
   "id": "38cad640",
   "metadata": {},
   "outputs": [],
   "source": [
    "toxcast_common_endpoints['response'] = toxcast_common_endpoints.apply(lambda row:get_response(row),axis=1)\n",
    "\n",
    "print(toxcast_common_endpoints.shape)\n",
    "\n",
    "toxcast_common_endpoints.head()"
   ]
  },
  {
   "cell_type": "code",
   "execution_count": 26,
   "id": "a0a00267",
   "metadata": {},
   "outputs": [],
   "source": [
    "toxcast_common_response = pd.DataFrame(toxcast_common_endpoints[['casn','chnm','dsstox_substance_id','aeid','aenm','nconc','modl',\n",
    "                                                         'hitc','ac50','conc_unit','zscore','response','assay_component_endpoint_desc',\n",
    "                                                         'intended_target_type','entrez_gene_id','official_full_name','official_symbol',\n",
    "                                                         'uniprot_accession_number']])\n",
    "print(toxcast_common_response.shape)\n",
    "\n",
    "toxcast_common_response.head()\n"
   ]
  },
  {
   "cell_type": "code",
   "execution_count": 121,
   "id": "48301241",
   "metadata": {},
   "outputs": [],
   "source": [
    "toxcast_common_response.to_csv('toxcast_response.tsv',sep='\\t',index=None,encoding='UTF-8') # output file"
   ]
  },
  {
   "cell_type": "code",
   "execution_count": null,
   "id": "1e7f56d1",
   "metadata": {},
   "outputs": [],
   "source": []
  }
 ],
 "metadata": {
  "kernelspec": {
   "display_name": "Python 3 (ipykernel)",
   "language": "python",
   "name": "python3"
  },
  "language_info": {
   "codemirror_mode": {
    "name": "ipython",
    "version": 3
   },
   "file_extension": ".py",
   "mimetype": "text/x-python",
   "name": "python",
   "nbconvert_exporter": "python",
   "pygments_lexer": "ipython3",
   "version": "3.8.16"
  }
 },
 "nbformat": 4,
 "nbformat_minor": 5
}
