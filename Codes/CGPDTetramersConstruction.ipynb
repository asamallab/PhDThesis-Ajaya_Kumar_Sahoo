{
 "cells": [
  {
   "cell_type": "markdown",
   "id": "94e8a0eb",
   "metadata": {},
   "source": [
    "### Author - Ajaya Kumar Sahoo\n",
    "\n",
    "#### This code gives the list of tetramers by utilizing the following data: \n",
    "#### chemical-gene, chemical-phenotype, chemical-disease and gene-disease associations from CTD - https://ctdbase.org/downloads/\n",
    "#### Gene-phenotype associations from NCBI Gene resource  - https://ftp.ncbi.nih.gov/gene/DATA/\n"
   ]
  },
  {
   "cell_type": "code",
   "execution_count": 2,
   "id": "bd7c5c7c",
   "metadata": {},
   "outputs": [],
   "source": [
    "import pandas as pd\n",
    "import numpy as  np"
   ]
  },
  {
   "cell_type": "code",
   "execution_count": 3,
   "id": "854171e3",
   "metadata": {},
   "outputs": [],
   "source": [
    "## Read the chemical list\n",
    "\n",
    "chemicals = pd.read_csv('chemicals.tsv',sep='\\t',dtype=str) # get the chemical list (CAS identifier)\n",
    "\n",
    "chemicals = chemicals.replace(np.nan,'',regex=True)\n",
    "\n",
    "print(chemicals.shape)\n",
    "\n",
    "chemical_list = list(chemicals['iden']) # only consider the chemical CAS ids for next step\n",
    "\n",
    "chemicals.head()"
   ]
  },
  {
   "cell_type": "markdown",
   "id": "5a718121",
   "metadata": {},
   "source": [
    "## Chemical - gene interaction from CTD"
   ]
  },
  {
   "cell_type": "code",
   "execution_count": 4,
   "id": "2edf0a29",
   "metadata": {},
   "outputs": [],
   "source": [
    "chem_gene = pd.read_csv('CTD_chem_gene_ixns.tsv',sep='\\t',comment='#',dtype=str,header=None) # download CTD_chem_gene_ixns.tsv from CTD\n",
    "print(chem_gene.shape)\n",
    "chem_gene.columns = ['ChemicalName', 'ChemicalID', 'CasRN', 'GeneSymbol', 'GeneID', 'GeneForms', 'Organism', 'OrganismID', 'Interaction', 'InteractionActions', 'PubMedIDs']\n",
    "\n",
    "print(chem_gene.shape)\n",
    "#chem_gene.head()\n",
    "chem_gene_common = pd.DataFrame(chem_gene[chem_gene['CasRN'].isin(chemical_list)])\n",
    "print(chem_gene_common.shape)\n",
    "\n",
    "chem_gene_common.head()\n"
   ]
  },
  {
   "cell_type": "markdown",
   "id": "319277f9",
   "metadata": {},
   "source": [
    "## chemical phenotype interaction from CTD "
   ]
  },
  {
   "cell_type": "code",
   "execution_count": 5,
   "id": "008c35b3",
   "metadata": {},
   "outputs": [],
   "source": [
    "chem_pheno = pd.read_csv('CTD_pheno_term_ixns.tsv',sep='\\t',comment='#',dtype=str,header=None) # download CTD_pheno_term_ixns.tsv from CTD\n",
    "\n",
    "print(chem_pheno.shape)\n",
    "\n",
    "chem_pheno.columns = ['chemicalname', 'chemicalid', 'casrn', 'phenotypename', 'phenotypeid', 'comentionedterms', 'organism', 'organismid', 'interaction', 'interactionactions', 'anatomyterms', 'inferencegenesymbols', 'pubmedids', 'some']\n",
    "\n",
    "print(chem_pheno.shape)\n",
    "#chem_pheno.head()\n",
    "chem_pheno_common = pd.DataFrame(chem_pheno[chem_pheno['casrn'].isin(chemical_list)])\n",
    "\n",
    "print(chem_pheno_common.shape)\n",
    "chem_pheno_common.head()\n",
    "\n"
   ]
  },
  {
   "cell_type": "markdown",
   "id": "5fe07fc9",
   "metadata": {},
   "source": [
    "## Chemical disease from CTD"
   ]
  },
  {
   "cell_type": "code",
   "execution_count": 6,
   "id": "94a749b8",
   "metadata": {},
   "outputs": [],
   "source": [
    "chem_dis = pd.read_csv('CTD_chemicals_diseases.tsv',sep='\\t',comment='#',dtype=str,header=None) # download CTD_chemicals_diseases.tsv from CTD\n",
    "\n",
    "print(chem_dis.shape)\n",
    "\n",
    "chem_dis.columns = ['ChemicalName', 'ChemicalID', 'CasRN', 'DiseaseName', 'DiseaseID', 'DirectEvidence', 'InferenceGeneSymbol', 'InferenceScore', 'OmimIDs', 'PubMedIDs']\n",
    "\n",
    "print(chem_dis.shape)\n",
    "#chem_pheno.head()\n",
    "chem_dis_common = pd.DataFrame(chem_dis[chem_dis['CasRN'].isin(chemical_list)])\n",
    "\n",
    "print(chem_dis_common.shape)\n",
    "chem_dis_common.head()\n"
   ]
  },
  {
   "cell_type": "code",
   "execution_count": 7,
   "id": "f6eb9e32",
   "metadata": {},
   "outputs": [],
   "source": [
    "set(chem_dis[chem_dis['DirectEvidence'] == 'marker/mechanism']['InferenceScore'])"
   ]
  },
  {
   "cell_type": "code",
   "execution_count": 9,
   "id": "78a11a02",
   "metadata": {},
   "outputs": [],
   "source": [
    "chem_dis['DirectEvidence'].unique()"
   ]
  },
  {
   "cell_type": "markdown",
   "id": "b44c6991",
   "metadata": {},
   "source": [
    "## Gene disease from CTD"
   ]
  },
  {
   "cell_type": "code",
   "execution_count": 25,
   "id": "d0c2301b",
   "metadata": {},
   "outputs": [],
   "source": [
    "gene_dis = pd.read_csv('CTD_genes_diseases.tsv',sep='\\t',comment='#',dtype=str,header=None) # download CTD_genes_diseases.tsv from CTD\n",
    "\n",
    "print(gene_dis.shape)\n",
    "\n",
    "gene_dis.columns = ['GeneSymbol', 'GeneID', 'DiseaseName', 'DiseaseID', 'DirectEvidence', 'InferenceChemicalName', 'InferenceScore', 'OmimIDs', 'PubMedIDs']\n",
    "\n",
    "print(gene_dis.shape)\n",
    "#chem_pheno.head()\n",
    "gene_dis_common = pd.DataFrame(gene_dis[gene_dis['GeneID'].isin(list(chem_gene_common['GeneID'].unique()))])\n",
    "\n",
    "print(gene_dis_common.shape)\n",
    "gene_dis_common.head()\n"
   ]
  },
  {
   "cell_type": "markdown",
   "id": "9ce9dcb3",
   "metadata": {},
   "source": [
    "## Gene-Go phenotype (From NCBI gene)"
   ]
  },
  {
   "cell_type": "code",
   "execution_count": 10,
   "id": "0d1a4392",
   "metadata": {},
   "outputs": [],
   "source": [
    "gene_GO = pd.read_csv('gene2go',sep='\\t',dtype=str) # download this filr from NCBI Gene\n",
    "\n",
    "print(gene_GO.shape)\n",
    "gene_GO_common = pd.DataFrame(gene_GO[gene_GO['GeneID'].isin(list(chem_gene_common['GeneID'].unique()))])\n",
    "print(gene_GO_common.shape)\n",
    "gene_GO_common.head()\n",
    "#gene_GO.head()"
   ]
  },
  {
   "cell_type": "code",
   "execution_count": 11,
   "id": "acdc24b6",
   "metadata": {},
   "outputs": [],
   "source": [
    "# these are the experimental evidence codes for GO terms listed in https://geneontology.org/docs/guide-go-evidence-codes/\n",
    "# We consider the experimental evidence for the GO terms from NCBI to get the gene-GO association\n",
    "\n",
    "GO_evidence = ['EXP','IDA','IPI','IMP','IGI','IEP','HTP','HDA','HMP','HGI','HEP']\n",
    "\n",
    "gene_GO_common_exp_evidence = pd.DataFrame(gene_GO_common[gene_GO_common['Evidence'].isin(GO_evidence)].reset_index(drop=True))\n",
    "print(gene_GO_common_exp_evidence.shape)\n",
    "gene_GO_common_exp_evidence.head()\n"
   ]
  },
  {
   "cell_type": "code",
   "execution_count": 12,
   "id": "7d5b74bd",
   "metadata": {},
   "outputs": [],
   "source": [
    "len(list(gene_GO_common_exp_evidence['GeneID'].unique()))"
   ]
  },
  {
   "cell_type": "code",
   "execution_count": 13,
   "id": "cc8e3ad3",
   "metadata": {},
   "outputs": [],
   "source": [
    "len(list(chem_gene_common['GeneID'].unique()))"
   ]
  },
  {
   "cell_type": "code",
   "execution_count": 14,
   "id": "b19bf943",
   "metadata": {},
   "outputs": [],
   "source": [
    "# Consider the direct evidence for chemical disease\n",
    "\n",
    "# chem_dis_common = chem_dis_common.replace(np.nan,'',regex=True).reset_index(drop=True)\n",
    "\n",
    "print(chem_dis_common.shape)\n",
    "print(chem_dis_common['DirectEvidence'].unique())\n",
    "chem_dis_common_direct = pd.DataFrame(chem_dis_common[chem_dis_common['DirectEvidence'] == 'marker/mechanism'].reset_index(drop=True))\n",
    "chem_dis_common_direct = chem_dis_common_direct.replace(np.nan,'',regex=True)\n",
    "print(chem_dis_common_direct.shape)\n",
    "chem_dis_common_direct.head()"
   ]
  },
  {
   "cell_type": "code",
   "execution_count": 15,
   "id": "43c0da6e",
   "metadata": {},
   "outputs": [],
   "source": [
    "len(chem_dis_common_direct['DiseaseID'].unique())"
   ]
  },
  {
   "cell_type": "code",
   "execution_count": 16,
   "id": "eb40cad2",
   "metadata": {},
   "outputs": [],
   "source": [
    "# Consider the direct evidence for gene disease association\n",
    "\n",
    "#gene_dis_common = gene_dis_common.replace(np.nan,'',regex=True).reset_index(drop=True)\n",
    "\n",
    "print(gene_dis_common.shape)\n",
    "#gene_dis_common.head()\n",
    "print(gene_dis_common['DirectEvidence'].unique())\n",
    "\n",
    "gene_dis_common_direct = pd.DataFrame(gene_dis_common[(gene_dis_common['DirectEvidence'] == 'marker/mechanism')|(gene_dis_common['DirectEvidence'] == 'marker/mechanism|therapeutic')])\n",
    "gene_dis_common_direct = gene_dis_common_direct.replace(np.nan,'',regex=True)\n",
    "print(gene_dis_common_direct.shape)\n",
    "gene_dis_common_direct.head()"
   ]
  },
  {
   "cell_type": "code",
   "execution_count": 17,
   "id": "c202dd42",
   "metadata": {},
   "outputs": [],
   "source": [
    "gene_dis_common['DirectEvidence'].unique()"
   ]
  },
  {
   "cell_type": "code",
   "execution_count": 18,
   "id": "042afdd7",
   "metadata": {},
   "outputs": [],
   "source": [
    "#gene_dis_common_direct.head()"
   ]
  },
  {
   "cell_type": "code",
   "execution_count": 19,
   "id": "0c599ec7",
   "metadata": {},
   "outputs": [],
   "source": [
    "# Finding chemical-gene (CG) tuple\n",
    "# this step considers chemical-gene data\n",
    "\n",
    "chem_gene_tuple = tuple(set(tuple(zip(chem_gene_common['CasRN'],chem_gene_common['GeneID']))))\n",
    "print(len(chem_gene_tuple))\n"
   ]
  },
  {
   "cell_type": "code",
   "execution_count": 20,
   "id": "8ba57a47",
   "metadata": {},
   "outputs": [],
   "source": [
    "# Finding chemical gene phenotype map\n",
    "# this step considers chemical-phenotype data and gene-phenotype data\n",
    "\n",
    "chem_gene_phenotype = {}\n",
    "for ele in chem_gene_tuple:\n",
    "    chem_gene_phenotype[ele] = list(set(chem_pheno_common.loc[chem_pheno_common['casrn'] == ele[0],'phenotypeid']).intersection(set(gene_GO_common_exp_evidence.loc[gene_GO_common_exp_evidence['GeneID'] ==ele[1],'GO_ID'])))\n",
    "print(len(chem_gene_phenotype)) \n",
    "\n"
   ]
  },
  {
   "cell_type": "code",
   "execution_count": 21,
   "id": "008cc585",
   "metadata": {},
   "outputs": [],
   "source": [
    "# Finding chemical gene disease map\n",
    "# this step considers chemical-disease data, gene-disease data\n",
    "\n",
    "chem_gene_disease = {}\n",
    "for ele in chem_gene_tuple:\n",
    "    chem_gene_disease[ele] = list(set(chem_dis_common_direct.loc[chem_dis_common_direct['CasRN'] == ele[0],'DiseaseID']).intersection(set(gene_dis_common_direct.loc[gene_dis_common_direct['GeneID'] ==ele[1],'DiseaseID'])))\n",
    "print(len(chem_gene_disease))\n"
   ]
  },
  {
   "cell_type": "code",
   "execution_count": 22,
   "id": "f30d3e26",
   "metadata": {},
   "outputs": [],
   "source": [
    "def Get_combinations(lis):\n",
    "    # consider all the tetramers from the list\n",
    "    tetramers = []\n",
    "    chemical = lis[0][0]\n",
    "    gene = lis[0][1]\n",
    "    for k in lis[1]: # looping through phenotypes\n",
    "        for l in lis[2]: # looping through diseases\n",
    "            phenotype = k\n",
    "            disease = l\n",
    "            tetramers.append([chemical, gene, phenotype, disease])\n",
    "    return tetramers         "
   ]
  },
  {
   "cell_type": "code",
   "execution_count": 23,
   "id": "a65cd85f",
   "metadata": {},
   "outputs": [],
   "source": [
    "tetramers = []\n",
    "# for (chemical, gene) as keys, check if it has atleast some phenotypes and diseases \n",
    "for ele in chem_gene_disease.keys():\n",
    "    if len(chem_gene_phenotype[ele]) >=1 and len(chem_gene_disease[ele]) >=1:\n",
    "        tetramers.append(Get_combinations([ele,chem_gene_phenotype[ele], chem_gene_disease[ele]]))\n",
    "\n",
    "#print(tetramers)\n",
    "tetramers_list = []\n",
    "chemical_list = []\n",
    "gene_list = []\n",
    "phenotype_list = []\n",
    "disease_list = []\n",
    "\n",
    "for k in tetramers:\n",
    "    for tetramer in k:\n",
    "        tetramers_list.append(tetramer)\n",
    "        \n",
    "        chemical_list.append(tetramer[0])\n",
    "        gene_list.append(tetramer[1])\n",
    "        phenotype_list.append(tetramer[2])\n",
    "        disease_list.append(tetramer[3])\n",
    "        \n",
    "print('Number of total tetramers:', len(tetramers_list))\n",
    "print('Number of total chemicals:', len(set(chemical_list)))\n",
    "print('Number of total genes:', len(set(gene_list)))\n",
    "print('Number of total phenotypes:', len(set(phenotype_list)))\n",
    "print('Number of total diseases:', len(set(disease_list)))\n",
    "\n"
   ]
  },
  {
   "cell_type": "code",
   "execution_count": 24,
   "id": "e9857e97",
   "metadata": {},
   "outputs": [],
   "source": [
    "f1 = open('Tetramers/Tetramer_list.tsv','w') # output file for tetramer list\n",
    "f1.write('Chemical'+'\\t'+'Gene'+'\\t'+'Phenotype'+'\\t'+'Disease'+'\\n')\n",
    "\n",
    "for ele in tetramers_list:\n",
    "    f1.write(ele[0]+'\\t'+ele[1]+'\\t'+ele[2]+'\\t'+ele[3]+'\\n')\n",
    "f1.close()"
   ]
  }
 ],
 "metadata": {
  "kernelspec": {
   "display_name": "Python 3 (ipykernel)",
   "language": "python",
   "name": "python3"
  },
  "language_info": {
   "codemirror_mode": {
    "name": "ipython",
    "version": 3
   },
   "file_extension": ".py",
   "mimetype": "text/x-python",
   "name": "python",
   "nbconvert_exporter": "python",
   "pygments_lexer": "ipython3",
   "version": "3.8.16"
  }
 },
 "nbformat": 4,
 "nbformat_minor": 5
}
