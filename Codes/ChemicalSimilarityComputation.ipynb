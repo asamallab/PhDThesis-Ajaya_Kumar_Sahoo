{
 "cells": [
  {
   "cell_type": "markdown",
   "id": "bf2b5941",
   "metadata": {},
   "source": [
    "### Author - Ajaya Kumar Sahoo\n",
    "\n",
    "#### Compute chemical similarity using ECFP4 and MACCS fingerprint"
   ]
  },
  {
   "cell_type": "code",
   "execution_count": 1,
   "id": "2fb7caa4",
   "metadata": {},
   "outputs": [],
   "source": [
    "import rdkit\n",
    "from rdkit import Chem\n",
    "from rdkit.Chem import AllChem\n",
    "from rdkit.Chem import Draw\n",
    "from rdkit import DataStructs\n",
    "from rdkit.Chem.Fingerprints import FingerprintMols\n",
    "from rdkit.Chem import MACCSkeys"
   ]
  },
  {
   "cell_type": "code",
   "execution_count": 4,
   "id": "d0cad689",
   "metadata": {},
   "outputs": [],
   "source": [
    "# reading molecules from sdf file\n",
    "# replace input.sdf with the input file in your machine\n",
    "\n",
    "fin = 'input.sdf' # input file\n",
    "\n",
    "edcs = Chem.SDMolSupplier(fin)\n",
    "\n",
    "print ('Number of molecules {}'.format(len(edcs)))\n"
   ]
  },
  {
   "cell_type": "code",
   "execution_count": 5,
   "id": "de1179a5",
   "metadata": {},
   "outputs": [],
   "source": [
    "fout = open(fin.replace('.sdf','_tani_out.tsv'),'w') # output file\n",
    "fout.write('id1'+'\\t'+'id2''\\t'+'ECFP4'+'\\t'+'MACCS'+'\\n')\n",
    "\n"
   ]
  },
  {
   "cell_type": "code",
   "execution_count": 6,
   "id": "1fed1efb",
   "metadata": {},
   "outputs": [],
   "source": [
    "#calculation of fingerprints\n",
    "\n",
    "figprnts_ecfp4={}\n",
    "figprnts_maccs={}\n",
    "molnames=[]\n",
    "\n",
    "for mol in edcs:\n",
    "    t1=mol.GetProp('_Name')\n",
    "    molnames.append(t1)\n",
    "    if mol is None:\n",
    "        print('Error: {}'.format(t1))\n",
    "    else:\n",
    "        figprnts_ecfp4[t1]=AllChem.GetMorganFingerprint(mol,2) #ECFP4\n",
    "        figprnts_maccs[t1]=MACCSkeys.GenMACCSKeys(mol) #MACCS\n",
    "\n"
   ]
  },
  {
   "cell_type": "code",
   "execution_count": 7,
   "id": "53e3c52e",
   "metadata": {},
   "outputs": [],
   "source": [
    "#calculation of tanimoto coefficient\n",
    "\n",
    "temp=sorted(molnames)[:]\n",
    "for i in sorted(molnames):\n",
    "    temp.remove(i)\n",
    "    for j in temp:\n",
    "        tani_ecfp4 = DataStructs.TanimotoSimilarity(figprnts_ecfp4[i],figprnts_ecfp4[j])\n",
    "        tani_maccs = DataStructs.TanimotoSimilarity(figprnts_maccs[i],figprnts_maccs[j])\n",
    "\n",
    "        tani = list(map(str,[i,j,tani_ecfp4,tani_maccs]))\n",
    "\n",
    "        fout.write('\\t'.join(tani) + '\\n') # saving the output file\n",
    "\n",
    "fout.close()"
   ]
  }
 ],
 "metadata": {
  "kernelspec": {
   "display_name": "Python 3 (ipykernel)",
   "language": "python",
   "name": "python3"
  },
  "language_info": {
   "codemirror_mode": {
    "name": "ipython",
    "version": 3
   },
   "file_extension": ".py",
   "mimetype": "text/x-python",
   "name": "python",
   "nbconvert_exporter": "python",
   "pygments_lexer": "ipython3",
   "version": "3.8.16"
  }
 },
 "nbformat": 4,
 "nbformat_minor": 5
}
